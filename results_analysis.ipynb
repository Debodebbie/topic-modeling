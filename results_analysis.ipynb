{
 "cells": [
  {
   "cell_type": "code",
   "execution_count": 3,
   "metadata": {},
   "outputs": [],
   "source": [
    "import pickle\n",
    "from bertopic import BERTopic\n",
    "from gensim.models.ldamodel import LdaModel\n",
    "from gensim.corpora.dictionary import Dictionary\n",
    "import pyLDAvis\n",
    "import pyLDAvis.gensim_models"
   ]
  },
  {
   "cell_type": "markdown",
   "metadata": {},
   "source": [
    "# BERTopic Analysis"
   ]
  },
  {
   "cell_type": "code",
   "execution_count": 5,
   "metadata": {},
   "outputs": [],
   "source": [
    "# Load the model\n",
    "with open(\"data/topic_model.pkl\", \"rb\") as f:\n",
    "    topic_model = pickle.load(f)"
   ]
  },
  {
   "cell_type": "markdown",
   "metadata": {},
   "source": [
    "In the topics below we can see a result of missing lemmatization/stemming - Topics 5 or 6 are just different forms of the same word. Unfortunately I could not lemmatize the words since one package was "
   ]
  },
  {
   "cell_type": "code",
   "execution_count": 4,
   "metadata": {},
   "outputs": [
    {
     "data": {
      "text/html": [
       "<div>\n",
       "<style scoped>\n",
       "    .dataframe tbody tr th:only-of-type {\n",
       "        vertical-align: middle;\n",
       "    }\n",
       "\n",
       "    .dataframe tbody tr th {\n",
       "        vertical-align: top;\n",
       "    }\n",
       "\n",
       "    .dataframe thead th {\n",
       "        text-align: right;\n",
       "    }\n",
       "</style>\n",
       "<table border=\"1\" class=\"dataframe\">\n",
       "  <thead>\n",
       "    <tr style=\"text-align: right;\">\n",
       "      <th></th>\n",
       "      <th>Topic</th>\n",
       "      <th>Count</th>\n",
       "      <th>Name</th>\n",
       "      <th>Representation</th>\n",
       "      <th>Representative_Docs</th>\n",
       "    </tr>\n",
       "  </thead>\n",
       "  <tbody>\n",
       "    <tr>\n",
       "      <th>0</th>\n",
       "      <td>-1</td>\n",
       "      <td>62600</td>\n",
       "      <td>-1_ישראל_שלא_אין_אנשים</td>\n",
       "      <td>[ישראל, שלא, אין, אנשים, לך, אתם, להם, ולא, המ...</td>\n",
       "      <td>[הייתי מציע להשאר לעבור למקום בארץ מקום בטוח א...</td>\n",
       "    </tr>\n",
       "    <tr>\n",
       "      <th>1</th>\n",
       "      <td>0</td>\n",
       "      <td>3580</td>\n",
       "      <td>0_יסוד_חוק_שופטים_לפסול</td>\n",
       "      <td>[יסוד, חוק, שופטים, לפסול, השופטים, החוק, חוקי...</td>\n",
       "      <td>[חוק יסוד החקיקה, 12 15 שופטים קבעו נתונה לביה...</td>\n",
       "    </tr>\n",
       "    <tr>\n",
       "      <th>2</th>\n",
       "      <td>1</td>\n",
       "      <td>1129</td>\n",
       "      <td>1_החיילים_בצבא_צבא_חייל</td>\n",
       "      <td>[החיילים, בצבא, צבא, חייל, הצבא, חיילים, לחייל...</td>\n",
       "      <td>[החיילים בן גביר, בצבא, בצבא היית]</td>\n",
       "    </tr>\n",
       "    <tr>\n",
       "      <th>3</th>\n",
       "      <td>2</td>\n",
       "      <td>1115</td>\n",
       "      <td>2_וואלה_חיפה_יאיר_הפועל</td>\n",
       "      <td>[וואלה, חיפה, יאיר, הפועל, נתניה, רבי, פליק, מ...</td>\n",
       "      <td>[וואלה ידעתי מזה, וואלה ידעתי, וואלה מאמין שזה...</td>\n",
       "    </tr>\n",
       "    <tr>\n",
       "      <th>4</th>\n",
       "      <td>3</td>\n",
       "      <td>1060</td>\n",
       "      <td>3_שחקן_משחק_המשחק_כדורגל</td>\n",
       "      <td>[שחקן, משחק, המשחק, כדורגל, מאמן, משחקים, שחקנ...</td>\n",
       "      <td>[קל קשה לשחק מאמן, המשחק הכי חשוב העונה, משחק ...</td>\n",
       "    </tr>\n",
       "    <tr>\n",
       "      <th>5</th>\n",
       "      <td>4</td>\n",
       "      <td>1057</td>\n",
       "      <td>4_ממשלת_ממשלה_הממשלה_שהממשלה</td>\n",
       "      <td>[ממשלת, ממשלה, הממשלה, שהממשלה, בממשלה, לממשלה...</td>\n",
       "      <td>[בושה ממשלה, פה ממשלה ימין מלא מלא, ממשלת ימין]</td>\n",
       "    </tr>\n",
       "    <tr>\n",
       "      <th>6</th>\n",
       "      <td>5</td>\n",
       "      <td>1041</td>\n",
       "      <td>5_נתניהו_בנימין_הליכוד_מהמרד</td>\n",
       "      <td>[נתניהו, בנימין, הליכוד, מהמרד, לבנימין, גנץ, ...</td>\n",
       "      <td>[נתניהו הבעיה, איש נתניהו, אולי נתניהו]</td>\n",
       "    </tr>\n",
       "    <tr>\n",
       "      <th>7</th>\n",
       "      <td>6</td>\n",
       "      <td>1033</td>\n",
       "      <td>6_יהודי_יהודים_יהודית_היהודי</td>\n",
       "      <td>[יהודי, יהודים, יהודית, היהודי, היהודים, היהדו...</td>\n",
       "      <td>[אז יהודי מאמין, יהודי פה, יהודים]</td>\n",
       "    </tr>\n",
       "    <tr>\n",
       "      <th>8</th>\n",
       "      <td>7</td>\n",
       "      <td>865</td>\n",
       "      <td>7_2024_2023_ב2024_ל2024</td>\n",
       "      <td>[2024, 2023, ב2024, ל2024, שנת, לשנת, ב2023, 2...</td>\n",
       "      <td>[מזל 2024, שיהיה לך 2024 טובה, אולי 2024 תהיה ...</td>\n",
       "    </tr>\n",
       "    <tr>\n",
       "      <th>9</th>\n",
       "      <td>8</td>\n",
       "      <td>864</td>\n",
       "      <td>8_חשבתי_הייתי_עשיתי_הלכתי</td>\n",
       "      <td>[חשבתי, הייתי, עשיתי, הלכתי, ניסיתי, חסמתי, שא...</td>\n",
       "      <td>[חשבתי עכשיו, חשבתי, חשבתי שזה]</td>\n",
       "    </tr>\n",
       "    <tr>\n",
       "      <th>10</th>\n",
       "      <td>9</td>\n",
       "      <td>847</td>\n",
       "      <td>9_בישראל_הדמוקרטיה_הישראלית_דמוקרטיה</td>\n",
       "      <td>[בישראל, הדמוקרטיה, הישראלית, דמוקרטיה, שופטים...</td>\n",
       "      <td>[יתכן שבית המשפט לוקח לעצמו סמכות לבטל חוק יסו...</td>\n",
       "    </tr>\n",
       "    <tr>\n",
       "      <th>11</th>\n",
       "      <td>10</td>\n",
       "      <td>802</td>\n",
       "      <td>10_המלחמה_מלחמה_במלחמה_שהמלחמה</td>\n",
       "      <td>[המלחמה, מלחמה, במלחמה, שהמלחמה, למלחמה, מלחמת...</td>\n",
       "      <td>[המלחמה, המלחמה, המלחמה]</td>\n",
       "    </tr>\n",
       "    <tr>\n",
       "      <th>12</th>\n",
       "      <td>11</td>\n",
       "      <td>798</td>\n",
       "      <td>11_הדתית_הציונות_דתית_דתיים</td>\n",
       "      <td>[הדתית, הציונות, דתית, דתיים, דתי, הדתי, הדת, ...</td>\n",
       "      <td>[שאלה למפלגת הציונות הדתית, תבין אין לך חברים ...</td>\n",
       "    </tr>\n",
       "    <tr>\n",
       "      <th>13</th>\n",
       "      <td>12</td>\n",
       "      <td>785</td>\n",
       "      <td>12_תודה_רבה_תודהה_ותודה</td>\n",
       "      <td>[תודה, רבה, תודהה, ותודה, ברכות, לאל, מעריך, מ...</td>\n",
       "      <td>[תודה תודה, תודה), תודה ️️]</td>\n",
       "    </tr>\n",
       "    <tr>\n",
       "      <th>14</th>\n",
       "      <td>13</td>\n",
       "      <td>768</td>\n",
       "      <td>13_טייסים_חיל_האוויר_טייס</td>\n",
       "      <td>[טייסים, חיל, האוויר, טייס, הטייסים, האויר, טי...</td>\n",
       "      <td>[איך טייסי חיל האוויר מחרפים נפשם בעזה בטח מתב...</td>\n",
       "    </tr>\n",
       "  </tbody>\n",
       "</table>\n",
       "</div>"
      ],
      "text/plain": [
       "    Topic  Count                                  Name  \\\n",
       "0      -1  62600                -1_ישראל_שלא_אין_אנשים   \n",
       "1       0   3580               0_יסוד_חוק_שופטים_לפסול   \n",
       "2       1   1129               1_החיילים_בצבא_צבא_חייל   \n",
       "3       2   1115               2_וואלה_חיפה_יאיר_הפועל   \n",
       "4       3   1060              3_שחקן_משחק_המשחק_כדורגל   \n",
       "5       4   1057          4_ממשלת_ממשלה_הממשלה_שהממשלה   \n",
       "6       5   1041          5_נתניהו_בנימין_הליכוד_מהמרד   \n",
       "7       6   1033          6_יהודי_יהודים_יהודית_היהודי   \n",
       "8       7    865               7_2024_2023_ב2024_ל2024   \n",
       "9       8    864             8_חשבתי_הייתי_עשיתי_הלכתי   \n",
       "10      9    847  9_בישראל_הדמוקרטיה_הישראלית_דמוקרטיה   \n",
       "11     10    802        10_המלחמה_מלחמה_במלחמה_שהמלחמה   \n",
       "12     11    798           11_הדתית_הציונות_דתית_דתיים   \n",
       "13     12    785               12_תודה_רבה_תודהה_ותודה   \n",
       "14     13    768             13_טייסים_חיל_האוויר_טייס   \n",
       "\n",
       "                                       Representation  \\\n",
       "0   [ישראל, שלא, אין, אנשים, לך, אתם, להם, ולא, המ...   \n",
       "1   [יסוד, חוק, שופטים, לפסול, השופטים, החוק, חוקי...   \n",
       "2   [החיילים, בצבא, צבא, חייל, הצבא, חיילים, לחייל...   \n",
       "3   [וואלה, חיפה, יאיר, הפועל, נתניה, רבי, פליק, מ...   \n",
       "4   [שחקן, משחק, המשחק, כדורגל, מאמן, משחקים, שחקנ...   \n",
       "5   [ממשלת, ממשלה, הממשלה, שהממשלה, בממשלה, לממשלה...   \n",
       "6   [נתניהו, בנימין, הליכוד, מהמרד, לבנימין, גנץ, ...   \n",
       "7   [יהודי, יהודים, יהודית, היהודי, היהודים, היהדו...   \n",
       "8   [2024, 2023, ב2024, ל2024, שנת, לשנת, ב2023, 2...   \n",
       "9   [חשבתי, הייתי, עשיתי, הלכתי, ניסיתי, חסמתי, שא...   \n",
       "10  [בישראל, הדמוקרטיה, הישראלית, דמוקרטיה, שופטים...   \n",
       "11  [המלחמה, מלחמה, במלחמה, שהמלחמה, למלחמה, מלחמת...   \n",
       "12  [הדתית, הציונות, דתית, דתיים, דתי, הדתי, הדת, ...   \n",
       "13  [תודה, רבה, תודהה, ותודה, ברכות, לאל, מעריך, מ...   \n",
       "14  [טייסים, חיל, האוויר, טייס, הטייסים, האויר, טי...   \n",
       "\n",
       "                                  Representative_Docs  \n",
       "0   [הייתי מציע להשאר לעבור למקום בארץ מקום בטוח א...  \n",
       "1   [חוק יסוד החקיקה, 12 15 שופטים קבעו נתונה לביה...  \n",
       "2                  [החיילים בן גביר, בצבא, בצבא היית]  \n",
       "3   [וואלה ידעתי מזה, וואלה ידעתי, וואלה מאמין שזה...  \n",
       "4   [קל קשה לשחק מאמן, המשחק הכי חשוב העונה, משחק ...  \n",
       "5     [בושה ממשלה, פה ממשלה ימין מלא מלא, ממשלת ימין]  \n",
       "6             [נתניהו הבעיה, איש נתניהו, אולי נתניהו]  \n",
       "7                  [אז יהודי מאמין, יהודי פה, יהודים]  \n",
       "8   [מזל 2024, שיהיה לך 2024 טובה, אולי 2024 תהיה ...  \n",
       "9                     [חשבתי עכשיו, חשבתי, חשבתי שזה]  \n",
       "10  [יתכן שבית המשפט לוקח לעצמו סמכות לבטל חוק יסו...  \n",
       "11                           [המלחמה, המלחמה, המלחמה]  \n",
       "12  [שאלה למפלגת הציונות הדתית, תבין אין לך חברים ...  \n",
       "13                        [תודה תודה, תודה), תודה ️️]  \n",
       "14  [איך טייסי חיל האוויר מחרפים נפשם בעזה בטח מתב...  "
      ]
     },
     "execution_count": 4,
     "metadata": {},
     "output_type": "execute_result"
    }
   ],
   "source": [
    "# Print the top 15 topics\n",
    "topic_info = topic_model.get_topic_info()\n",
    "topic_info[:15]"
   ]
  },
  {
   "cell_type": "code",
   "execution_count": 5,
   "metadata": {},
   "outputs": [
    {
     "data": {
      "application/vnd.plotly.v1+json": {
       "config": {
        "plotlyServerURL": "https://plot.ly"
       },
       "data": [
        {
         "marker": {
          "color": "#D55E00"
         },
         "orientation": "h",
         "type": "bar",
         "x": [
          0.005190971700874439,
          0.005219881159878685,
          0.005445652250316513,
          0.006708185574147622,
          0.00782017864313723
         ],
         "xaxis": "x",
         "y": [
          "השופטים  ",
          "לפסול  ",
          "שופטים  ",
          "חוק  ",
          "יסוד  "
         ],
         "yaxis": "y"
        },
        {
         "marker": {
          "color": "#0072B2"
         },
         "orientation": "h",
         "type": "bar",
         "x": [
          0.006789025826304131,
          0.00769690087582234,
          0.008420825885475044,
          0.009070497297835704,
          0.010768242250722954
         ],
         "xaxis": "x2",
         "y": [
          "הצבא  ",
          "חייל  ",
          "צבא  ",
          "בצבא  ",
          "החיילים  "
         ],
         "yaxis": "y2"
        },
        {
         "marker": {
          "color": "#CC79A7"
         },
         "orientation": "h",
         "type": "bar",
         "x": [
          0.00422333387008779,
          0.004705975965225612,
          0.00648144656244153,
          0.007618499895522522,
          0.012936017227935978
         ],
         "xaxis": "x3",
         "y": [
          "נתניה  ",
          "הפועל  ",
          "יאיר  ",
          "חיפה  ",
          "וואלה  "
         ],
         "yaxis": "y3"
        },
        {
         "marker": {
          "color": "#E69F00"
         },
         "orientation": "h",
         "type": "bar",
         "x": [
          0.008891149668077076,
          0.010338587547055246,
          0.010402566461538748,
          0.011708540966621845,
          0.012665690239294803
         ],
         "xaxis": "x4",
         "y": [
          "מאמן  ",
          "כדורגל  ",
          "המשחק  ",
          "משחק  ",
          "שחקן  "
         ],
         "yaxis": "y4"
        },
        {
         "marker": {
          "color": "#56B4E9"
         },
         "orientation": "h",
         "type": "bar",
         "x": [
          0.00781706059735374,
          0.007939387313690325,
          0.008643203628072353,
          0.009595573615012848,
          0.010206764030240505
         ],
         "xaxis": "x5",
         "y": [
          "בממשלה  ",
          "שהממשלה  ",
          "הממשלה  ",
          "ממשלה  ",
          "ממשלת  "
         ],
         "yaxis": "y5"
        },
        {
         "marker": {
          "color": "#009E73"
         },
         "orientation": "h",
         "type": "bar",
         "x": [
          0.002184736637489347,
          0.0023320569297304514,
          0.0024848558736639066,
          0.0033011443230073468,
          0.020975077153815358
         ],
         "xaxis": "x6",
         "y": [
          "לבנימין  ",
          "מהמרד  ",
          "הליכוד  ",
          "בנימין  ",
          "נתניהו  "
         ],
         "yaxis": "y6"
        },
        {
         "marker": {
          "color": "#F0E442"
         },
         "orientation": "h",
         "type": "bar",
         "x": [
          0.008840860520404562,
          0.010099430737052374,
          0.010755319890722101,
          0.012839808137600777,
          0.015808213430069665
         ],
         "xaxis": "x7",
         "y": [
          "היהודים  ",
          "היהודי  ",
          "יהודית  ",
          "יהודים  ",
          "יהודי  "
         ],
         "yaxis": "y7"
        },
        {
         "marker": {
          "color": "#D55E00"
         },
         "orientation": "h",
         "type": "bar",
         "x": [
          0.014129187222554745,
          0.01650470390663977,
          0.01768923166928452,
          0.01913632176666461,
          0.037448487119092384
         ],
         "xaxis": "x8",
         "y": [
          "שנת  ",
          "ל2024  ",
          "ב2024  ",
          "2023  ",
          "2024  "
         ],
         "yaxis": "y8"
        }
       ],
       "layout": {
        "annotations": [
         {
          "font": {
           "size": 16
          },
          "showarrow": false,
          "text": "Topic 0",
          "x": 0.0875,
          "xanchor": "center",
          "xref": "paper",
          "y": 1,
          "yanchor": "bottom",
          "yref": "paper"
         },
         {
          "font": {
           "size": 16
          },
          "showarrow": false,
          "text": "Topic 1",
          "x": 0.36250000000000004,
          "xanchor": "center",
          "xref": "paper",
          "y": 1,
          "yanchor": "bottom",
          "yref": "paper"
         },
         {
          "font": {
           "size": 16
          },
          "showarrow": false,
          "text": "Topic 2",
          "x": 0.6375000000000001,
          "xanchor": "center",
          "xref": "paper",
          "y": 1,
          "yanchor": "bottom",
          "yref": "paper"
         },
         {
          "font": {
           "size": 16
          },
          "showarrow": false,
          "text": "Topic 3",
          "x": 0.9125,
          "xanchor": "center",
          "xref": "paper",
          "y": 1,
          "yanchor": "bottom",
          "yref": "paper"
         },
         {
          "font": {
           "size": 16
          },
          "showarrow": false,
          "text": "Topic 4",
          "x": 0.0875,
          "xanchor": "center",
          "xref": "paper",
          "y": 0.4,
          "yanchor": "bottom",
          "yref": "paper"
         },
         {
          "font": {
           "size": 16
          },
          "showarrow": false,
          "text": "Topic 5",
          "x": 0.36250000000000004,
          "xanchor": "center",
          "xref": "paper",
          "y": 0.4,
          "yanchor": "bottom",
          "yref": "paper"
         },
         {
          "font": {
           "size": 16
          },
          "showarrow": false,
          "text": "Topic 6",
          "x": 0.6375000000000001,
          "xanchor": "center",
          "xref": "paper",
          "y": 0.4,
          "yanchor": "bottom",
          "yref": "paper"
         },
         {
          "font": {
           "size": 16
          },
          "showarrow": false,
          "text": "Topic 7",
          "x": 0.9125,
          "xanchor": "center",
          "xref": "paper",
          "y": 0.4,
          "yanchor": "bottom",
          "yref": "paper"
         }
        ],
        "height": 500,
        "hoverlabel": {
         "bgcolor": "white",
         "font": {
          "family": "Rockwell",
          "size": 16
         }
        },
        "showlegend": false,
        "template": {
         "data": {
          "bar": [
           {
            "error_x": {
             "color": "#2a3f5f"
            },
            "error_y": {
             "color": "#2a3f5f"
            },
            "marker": {
             "line": {
              "color": "white",
              "width": 0.5
             },
             "pattern": {
              "fillmode": "overlay",
              "size": 10,
              "solidity": 0.2
             }
            },
            "type": "bar"
           }
          ],
          "barpolar": [
           {
            "marker": {
             "line": {
              "color": "white",
              "width": 0.5
             },
             "pattern": {
              "fillmode": "overlay",
              "size": 10,
              "solidity": 0.2
             }
            },
            "type": "barpolar"
           }
          ],
          "carpet": [
           {
            "aaxis": {
             "endlinecolor": "#2a3f5f",
             "gridcolor": "#C8D4E3",
             "linecolor": "#C8D4E3",
             "minorgridcolor": "#C8D4E3",
             "startlinecolor": "#2a3f5f"
            },
            "baxis": {
             "endlinecolor": "#2a3f5f",
             "gridcolor": "#C8D4E3",
             "linecolor": "#C8D4E3",
             "minorgridcolor": "#C8D4E3",
             "startlinecolor": "#2a3f5f"
            },
            "type": "carpet"
           }
          ],
          "choropleth": [
           {
            "colorbar": {
             "outlinewidth": 0,
             "ticks": ""
            },
            "type": "choropleth"
           }
          ],
          "contour": [
           {
            "colorbar": {
             "outlinewidth": 0,
             "ticks": ""
            },
            "colorscale": [
             [
              0,
              "#0d0887"
             ],
             [
              0.1111111111111111,
              "#46039f"
             ],
             [
              0.2222222222222222,
              "#7201a8"
             ],
             [
              0.3333333333333333,
              "#9c179e"
             ],
             [
              0.4444444444444444,
              "#bd3786"
             ],
             [
              0.5555555555555556,
              "#d8576b"
             ],
             [
              0.6666666666666666,
              "#ed7953"
             ],
             [
              0.7777777777777778,
              "#fb9f3a"
             ],
             [
              0.8888888888888888,
              "#fdca26"
             ],
             [
              1,
              "#f0f921"
             ]
            ],
            "type": "contour"
           }
          ],
          "contourcarpet": [
           {
            "colorbar": {
             "outlinewidth": 0,
             "ticks": ""
            },
            "type": "contourcarpet"
           }
          ],
          "heatmap": [
           {
            "colorbar": {
             "outlinewidth": 0,
             "ticks": ""
            },
            "colorscale": [
             [
              0,
              "#0d0887"
             ],
             [
              0.1111111111111111,
              "#46039f"
             ],
             [
              0.2222222222222222,
              "#7201a8"
             ],
             [
              0.3333333333333333,
              "#9c179e"
             ],
             [
              0.4444444444444444,
              "#bd3786"
             ],
             [
              0.5555555555555556,
              "#d8576b"
             ],
             [
              0.6666666666666666,
              "#ed7953"
             ],
             [
              0.7777777777777778,
              "#fb9f3a"
             ],
             [
              0.8888888888888888,
              "#fdca26"
             ],
             [
              1,
              "#f0f921"
             ]
            ],
            "type": "heatmap"
           }
          ],
          "heatmapgl": [
           {
            "colorbar": {
             "outlinewidth": 0,
             "ticks": ""
            },
            "colorscale": [
             [
              0,
              "#0d0887"
             ],
             [
              0.1111111111111111,
              "#46039f"
             ],
             [
              0.2222222222222222,
              "#7201a8"
             ],
             [
              0.3333333333333333,
              "#9c179e"
             ],
             [
              0.4444444444444444,
              "#bd3786"
             ],
             [
              0.5555555555555556,
              "#d8576b"
             ],
             [
              0.6666666666666666,
              "#ed7953"
             ],
             [
              0.7777777777777778,
              "#fb9f3a"
             ],
             [
              0.8888888888888888,
              "#fdca26"
             ],
             [
              1,
              "#f0f921"
             ]
            ],
            "type": "heatmapgl"
           }
          ],
          "histogram": [
           {
            "marker": {
             "pattern": {
              "fillmode": "overlay",
              "size": 10,
              "solidity": 0.2
             }
            },
            "type": "histogram"
           }
          ],
          "histogram2d": [
           {
            "colorbar": {
             "outlinewidth": 0,
             "ticks": ""
            },
            "colorscale": [
             [
              0,
              "#0d0887"
             ],
             [
              0.1111111111111111,
              "#46039f"
             ],
             [
              0.2222222222222222,
              "#7201a8"
             ],
             [
              0.3333333333333333,
              "#9c179e"
             ],
             [
              0.4444444444444444,
              "#bd3786"
             ],
             [
              0.5555555555555556,
              "#d8576b"
             ],
             [
              0.6666666666666666,
              "#ed7953"
             ],
             [
              0.7777777777777778,
              "#fb9f3a"
             ],
             [
              0.8888888888888888,
              "#fdca26"
             ],
             [
              1,
              "#f0f921"
             ]
            ],
            "type": "histogram2d"
           }
          ],
          "histogram2dcontour": [
           {
            "colorbar": {
             "outlinewidth": 0,
             "ticks": ""
            },
            "colorscale": [
             [
              0,
              "#0d0887"
             ],
             [
              0.1111111111111111,
              "#46039f"
             ],
             [
              0.2222222222222222,
              "#7201a8"
             ],
             [
              0.3333333333333333,
              "#9c179e"
             ],
             [
              0.4444444444444444,
              "#bd3786"
             ],
             [
              0.5555555555555556,
              "#d8576b"
             ],
             [
              0.6666666666666666,
              "#ed7953"
             ],
             [
              0.7777777777777778,
              "#fb9f3a"
             ],
             [
              0.8888888888888888,
              "#fdca26"
             ],
             [
              1,
              "#f0f921"
             ]
            ],
            "type": "histogram2dcontour"
           }
          ],
          "mesh3d": [
           {
            "colorbar": {
             "outlinewidth": 0,
             "ticks": ""
            },
            "type": "mesh3d"
           }
          ],
          "parcoords": [
           {
            "line": {
             "colorbar": {
              "outlinewidth": 0,
              "ticks": ""
             }
            },
            "type": "parcoords"
           }
          ],
          "pie": [
           {
            "automargin": true,
            "type": "pie"
           }
          ],
          "scatter": [
           {
            "fillpattern": {
             "fillmode": "overlay",
             "size": 10,
             "solidity": 0.2
            },
            "type": "scatter"
           }
          ],
          "scatter3d": [
           {
            "line": {
             "colorbar": {
              "outlinewidth": 0,
              "ticks": ""
             }
            },
            "marker": {
             "colorbar": {
              "outlinewidth": 0,
              "ticks": ""
             }
            },
            "type": "scatter3d"
           }
          ],
          "scattercarpet": [
           {
            "marker": {
             "colorbar": {
              "outlinewidth": 0,
              "ticks": ""
             }
            },
            "type": "scattercarpet"
           }
          ],
          "scattergeo": [
           {
            "marker": {
             "colorbar": {
              "outlinewidth": 0,
              "ticks": ""
             }
            },
            "type": "scattergeo"
           }
          ],
          "scattergl": [
           {
            "marker": {
             "colorbar": {
              "outlinewidth": 0,
              "ticks": ""
             }
            },
            "type": "scattergl"
           }
          ],
          "scattermapbox": [
           {
            "marker": {
             "colorbar": {
              "outlinewidth": 0,
              "ticks": ""
             }
            },
            "type": "scattermapbox"
           }
          ],
          "scatterpolar": [
           {
            "marker": {
             "colorbar": {
              "outlinewidth": 0,
              "ticks": ""
             }
            },
            "type": "scatterpolar"
           }
          ],
          "scatterpolargl": [
           {
            "marker": {
             "colorbar": {
              "outlinewidth": 0,
              "ticks": ""
             }
            },
            "type": "scatterpolargl"
           }
          ],
          "scatterternary": [
           {
            "marker": {
             "colorbar": {
              "outlinewidth": 0,
              "ticks": ""
             }
            },
            "type": "scatterternary"
           }
          ],
          "surface": [
           {
            "colorbar": {
             "outlinewidth": 0,
             "ticks": ""
            },
            "colorscale": [
             [
              0,
              "#0d0887"
             ],
             [
              0.1111111111111111,
              "#46039f"
             ],
             [
              0.2222222222222222,
              "#7201a8"
             ],
             [
              0.3333333333333333,
              "#9c179e"
             ],
             [
              0.4444444444444444,
              "#bd3786"
             ],
             [
              0.5555555555555556,
              "#d8576b"
             ],
             [
              0.6666666666666666,
              "#ed7953"
             ],
             [
              0.7777777777777778,
              "#fb9f3a"
             ],
             [
              0.8888888888888888,
              "#fdca26"
             ],
             [
              1,
              "#f0f921"
             ]
            ],
            "type": "surface"
           }
          ],
          "table": [
           {
            "cells": {
             "fill": {
              "color": "#EBF0F8"
             },
             "line": {
              "color": "white"
             }
            },
            "header": {
             "fill": {
              "color": "#C8D4E3"
             },
             "line": {
              "color": "white"
             }
            },
            "type": "table"
           }
          ]
         },
         "layout": {
          "annotationdefaults": {
           "arrowcolor": "#2a3f5f",
           "arrowhead": 0,
           "arrowwidth": 1
          },
          "autotypenumbers": "strict",
          "coloraxis": {
           "colorbar": {
            "outlinewidth": 0,
            "ticks": ""
           }
          },
          "colorscale": {
           "diverging": [
            [
             0,
             "#8e0152"
            ],
            [
             0.1,
             "#c51b7d"
            ],
            [
             0.2,
             "#de77ae"
            ],
            [
             0.3,
             "#f1b6da"
            ],
            [
             0.4,
             "#fde0ef"
            ],
            [
             0.5,
             "#f7f7f7"
            ],
            [
             0.6,
             "#e6f5d0"
            ],
            [
             0.7,
             "#b8e186"
            ],
            [
             0.8,
             "#7fbc41"
            ],
            [
             0.9,
             "#4d9221"
            ],
            [
             1,
             "#276419"
            ]
           ],
           "sequential": [
            [
             0,
             "#0d0887"
            ],
            [
             0.1111111111111111,
             "#46039f"
            ],
            [
             0.2222222222222222,
             "#7201a8"
            ],
            [
             0.3333333333333333,
             "#9c179e"
            ],
            [
             0.4444444444444444,
             "#bd3786"
            ],
            [
             0.5555555555555556,
             "#d8576b"
            ],
            [
             0.6666666666666666,
             "#ed7953"
            ],
            [
             0.7777777777777778,
             "#fb9f3a"
            ],
            [
             0.8888888888888888,
             "#fdca26"
            ],
            [
             1,
             "#f0f921"
            ]
           ],
           "sequentialminus": [
            [
             0,
             "#0d0887"
            ],
            [
             0.1111111111111111,
             "#46039f"
            ],
            [
             0.2222222222222222,
             "#7201a8"
            ],
            [
             0.3333333333333333,
             "#9c179e"
            ],
            [
             0.4444444444444444,
             "#bd3786"
            ],
            [
             0.5555555555555556,
             "#d8576b"
            ],
            [
             0.6666666666666666,
             "#ed7953"
            ],
            [
             0.7777777777777778,
             "#fb9f3a"
            ],
            [
             0.8888888888888888,
             "#fdca26"
            ],
            [
             1,
             "#f0f921"
            ]
           ]
          },
          "colorway": [
           "#636efa",
           "#EF553B",
           "#00cc96",
           "#ab63fa",
           "#FFA15A",
           "#19d3f3",
           "#FF6692",
           "#B6E880",
           "#FF97FF",
           "#FECB52"
          ],
          "font": {
           "color": "#2a3f5f"
          },
          "geo": {
           "bgcolor": "white",
           "lakecolor": "white",
           "landcolor": "white",
           "showlakes": true,
           "showland": true,
           "subunitcolor": "#C8D4E3"
          },
          "hoverlabel": {
           "align": "left"
          },
          "hovermode": "closest",
          "mapbox": {
           "style": "light"
          },
          "paper_bgcolor": "white",
          "plot_bgcolor": "white",
          "polar": {
           "angularaxis": {
            "gridcolor": "#EBF0F8",
            "linecolor": "#EBF0F8",
            "ticks": ""
           },
           "bgcolor": "white",
           "radialaxis": {
            "gridcolor": "#EBF0F8",
            "linecolor": "#EBF0F8",
            "ticks": ""
           }
          },
          "scene": {
           "xaxis": {
            "backgroundcolor": "white",
            "gridcolor": "#DFE8F3",
            "gridwidth": 2,
            "linecolor": "#EBF0F8",
            "showbackground": true,
            "ticks": "",
            "zerolinecolor": "#EBF0F8"
           },
           "yaxis": {
            "backgroundcolor": "white",
            "gridcolor": "#DFE8F3",
            "gridwidth": 2,
            "linecolor": "#EBF0F8",
            "showbackground": true,
            "ticks": "",
            "zerolinecolor": "#EBF0F8"
           },
           "zaxis": {
            "backgroundcolor": "white",
            "gridcolor": "#DFE8F3",
            "gridwidth": 2,
            "linecolor": "#EBF0F8",
            "showbackground": true,
            "ticks": "",
            "zerolinecolor": "#EBF0F8"
           }
          },
          "shapedefaults": {
           "line": {
            "color": "#2a3f5f"
           }
          },
          "ternary": {
           "aaxis": {
            "gridcolor": "#DFE8F3",
            "linecolor": "#A2B1C6",
            "ticks": ""
           },
           "baxis": {
            "gridcolor": "#DFE8F3",
            "linecolor": "#A2B1C6",
            "ticks": ""
           },
           "bgcolor": "white",
           "caxis": {
            "gridcolor": "#DFE8F3",
            "linecolor": "#A2B1C6",
            "ticks": ""
           }
          },
          "title": {
           "x": 0.05
          },
          "xaxis": {
           "automargin": true,
           "gridcolor": "#EBF0F8",
           "linecolor": "#EBF0F8",
           "ticks": "",
           "title": {
            "standoff": 15
           },
           "zerolinecolor": "#EBF0F8",
           "zerolinewidth": 2
          },
          "yaxis": {
           "automargin": true,
           "gridcolor": "#EBF0F8",
           "linecolor": "#EBF0F8",
           "ticks": "",
           "title": {
            "standoff": 15
           },
           "zerolinecolor": "#EBF0F8",
           "zerolinewidth": 2
          }
         }
        },
        "title": {
         "font": {
          "color": "Black",
          "size": 22
         },
         "text": "Topic Word Scores",
         "x": 0.5,
         "xanchor": "center",
         "yanchor": "top"
        },
        "width": 1000,
        "xaxis": {
         "anchor": "y",
         "domain": [
          0,
          0.175
         ],
         "showgrid": true
        },
        "xaxis2": {
         "anchor": "y2",
         "domain": [
          0.275,
          0.45
         ],
         "showgrid": true
        },
        "xaxis3": {
         "anchor": "y3",
         "domain": [
          0.55,
          0.7250000000000001
         ],
         "showgrid": true
        },
        "xaxis4": {
         "anchor": "y4",
         "domain": [
          0.825,
          1
         ],
         "showgrid": true
        },
        "xaxis5": {
         "anchor": "y5",
         "domain": [
          0,
          0.175
         ],
         "showgrid": true
        },
        "xaxis6": {
         "anchor": "y6",
         "domain": [
          0.275,
          0.45
         ],
         "showgrid": true
        },
        "xaxis7": {
         "anchor": "y7",
         "domain": [
          0.55,
          0.7250000000000001
         ],
         "showgrid": true
        },
        "xaxis8": {
         "anchor": "y8",
         "domain": [
          0.825,
          1
         ],
         "showgrid": true
        },
        "yaxis": {
         "anchor": "x",
         "domain": [
          0.6000000000000001,
          1
         ],
         "showgrid": true
        },
        "yaxis2": {
         "anchor": "x2",
         "domain": [
          0.6000000000000001,
          1
         ],
         "showgrid": true
        },
        "yaxis3": {
         "anchor": "x3",
         "domain": [
          0.6000000000000001,
          1
         ],
         "showgrid": true
        },
        "yaxis4": {
         "anchor": "x4",
         "domain": [
          0.6000000000000001,
          1
         ],
         "showgrid": true
        },
        "yaxis5": {
         "anchor": "x5",
         "domain": [
          0,
          0.4
         ],
         "showgrid": true
        },
        "yaxis6": {
         "anchor": "x6",
         "domain": [
          0,
          0.4
         ],
         "showgrid": true
        },
        "yaxis7": {
         "anchor": "x7",
         "domain": [
          0,
          0.4
         ],
         "showgrid": true
        },
        "yaxis8": {
         "anchor": "x8",
         "domain": [
          0,
          0.4
         ],
         "showgrid": true
        }
       }
      }
     },
     "metadata": {},
     "output_type": "display_data"
    }
   ],
   "source": [
    "topic_model.visualize_barchart()"
   ]
  },
  {
   "cell_type": "code",
   "execution_count": 6,
   "metadata": {},
   "outputs": [
    {
     "name": "stdout",
     "output_type": "stream",
     "text": [
      "Topic Diversity Score: 0.8218\n"
     ]
    }
   ],
   "source": [
    "def calculate_topic_diversity(topic_model, top_n_words=10):\n",
    "    # Extract top n words for each topic\n",
    "    topics = topic_model.get_topics()\n",
    "    \n",
    "    topic_words = []\n",
    "    for topic_id in topics.keys():\n",
    "        topic = topic_model.get_topic(topic_id)\n",
    "        if topic:\n",
    "            topic_words.append(topic[:top_n_words])\n",
    "    \n",
    "    # Flatten list of words in all topics\n",
    "    all_words = [word for topic in topic_words for word, _ in topic]\n",
    "\n",
    "    # Calculate unique words\n",
    "    unique_words = set(all_words)\n",
    "    total_words = len(all_words)\n",
    "\n",
    "    # Topic Diversity Score\n",
    "    if total_words == 0:\n",
    "        return 0\n",
    "    topic_diversity_score = len(unique_words) / total_words\n",
    "    return topic_diversity_score\n",
    "\n",
    "# Calculate and print the Topic Diversity Score\n",
    "topic_diversity_score = calculate_topic_diversity(topic_model, top_n_words=10)\n",
    "print(f\"Topic Diversity Score: {topic_diversity_score:.4f}\")\n"
   ]
  },
  {
   "cell_type": "markdown",
   "metadata": {},
   "source": [
    "# LDA Analysis\n",
    "\n",
    "This analysis returns a collection of words for a topic instead of a readable topic. Summarizing it using a generative LLM would make it readable. I only implemented gpt-2, which is the only open-source model that I could run on my laptop (too big otherwise). However gpt-2 does not support hebrew and the results are accordingly bad."
   ]
  },
  {
   "cell_type": "code",
   "execution_count": 18,
   "metadata": {},
   "outputs": [],
   "source": [
    "# Load the model\n",
    "with open(\"data/lda_model.pkl\", \"rb\") as f:\n",
    "    tweets_lda = pickle.load(f)\n",
    "\n",
    "# Load necessary data from the modeling\n",
    "with open(\"data/token_per_tweet.pkl\", \"rb\") as f:\n",
    "    token_per_tweet = pickle.load(f)\n",
    "\n",
    "with open(\"data/tweets_bow.pkl\", \"rb\") as f:\n",
    "    tweets_bow = pickle.load(f)\n",
    "\n",
    "with open(\"data/dictionary.pkl\", \"rb\") as f:\n",
    "    dictionary = pickle.load(f)"
   ]
  },
  {
   "cell_type": "code",
   "execution_count": 20,
   "metadata": {},
   "outputs": [
    {
     "data": {
      "text/plain": [
       "[(0,\n",
       "  '0.026*\"אתם\" + 0.023*\"תודה\" + 0.019*\"לכם\" + 0.010*\"ביטול\" + 0.009*\"רואה\" + 0.007*\"הרוב\" + 0.007*\"הכל\" + 0.007*\"אין\" + 0.007*\"החלטת\" + 0.007*\"ניתן\"'),\n",
       " (1,\n",
       "  '0.021*\"לך\" + 0.016*\"שנה\" + 0.015*\"שופטים\" + 0.014*\"ח\" + 0.013*\"ישראל\" + 0.012*\"ביבי\" + 0.009*\"יום\" + 0.009*\"טובה\" + 0.008*\"סגל\" + 0.008*\"שרה\"'),\n",
       " (2,\n",
       "  '0.013*\"הזמן\" + 0.012*\"משפט\" + 0.012*\"חמאס\" + 0.009*\"חיות\" + 0.009*\"החיילים\" + 0.009*\"הרפורמה\" + 0.008*\"כהן\" + 0.007*\"מעניין\" + 0.007*\"אפס\" + 0.007*\"דיסטל\"'),\n",
       " (3,\n",
       "  '0.017*\"ממשלה\" + 0.016*\"ראש\" + 0.014*\"2\" + 0.010*\"3\" + 0.010*\"הממשלה\" + 0.009*\"מנדטים\" + 0.009*\"1\" + 0.009*\"64\" + 0.008*\"ישראל\" + 0.008*\"שלטון\"'),\n",
       " (4,\n",
       "  '0.024*\"ישראל\" + 0.010*\"מלא\" + 0.009*\"בג\"צ\" + 0.009*\"הימין\" + 0.008*\"עזה\" + 0.008*\"ממשלת\" + 0.008*\"השופטים\" + 0.007*\"ימין\" + 0.007*\"צריך\" + 0.007*\"15\"'),\n",
       " (5,\n",
       "  '0.024*\"המשפט\" + 0.018*\"בית\" + 0.011*\"המדינה\" + 0.011*\"בן\" + 0.010*\"העם\" + 0.010*\"הדין\" + 0.009*\"פסק\" + 0.009*\"ישראל\" + 0.009*\"בעזה\" + 0.008*\"דמוקרטיה\"'),\n",
       " (6,\n",
       "  '0.026*\"לי\" + 0.016*\"למה\" + 0.016*\"אז\" + 0.016*\"אין\" + 0.012*\"שהוא\" + 0.012*\"צריך\" + 0.012*\"להיות\" + 0.010*\"לך\" + 0.010*\"שלא\" + 0.010*\"העליון\"'),\n",
       " (7,\n",
       "  '0.017*\"בושה\" + 0.013*\"יודע\" + 0.012*\"לך\" + 0.012*\"שאתה\" + 0.011*\"אסתר\" + 0.011*\"במדינה\" + 0.010*\"קצת\" + 0.009*\"רוצה\" + 0.008*\"בכל\" + 0.007*\"דמוקרטית\"'),\n",
       " (8,\n",
       "  '0.022*\"טוב\" + 0.018*\"הכי\" + 0.014*\"מאוד\" + 0.012*\"פעם\" + 0.012*\"לי\" + 0.011*\"שזה\" + 0.010*\"באמת\" + 0.010*\"דבר\" + 0.008*\"אין\" + 0.008*\"לך\"'),\n",
       " (9,\n",
       "  '0.031*\"חוק\" + 0.026*\"יסוד\" + 0.017*\"הסבירות\" + 0.017*\"בג\"ץ\" + 0.012*\"עילת\" + 0.012*\"חוקי\" + 0.011*\"היום\" + 0.010*\"עכשיו\" + 0.008*\"לבטל\" + 0.008*\"המלחמה\"')]"
      ]
     },
     "execution_count": 20,
     "metadata": {},
     "output_type": "execute_result"
    }
   ],
   "source": [
    "tweets_lda.show_topics()"
   ]
  },
  {
   "cell_type": "markdown",
   "metadata": {},
   "source": [
    "The topic diversity score of 0.9 is pretty good for the LDA "
   ]
  },
  {
   "cell_type": "code",
   "execution_count": 16,
   "metadata": {},
   "outputs": [
    {
     "name": "stdout",
     "output_type": "stream",
     "text": [
      "Topic Diversity Score: 0.9000\n"
     ]
    }
   ],
   "source": [
    "def calculate_topic_diversity_lda(lda_model, token_per_tweet, top_n_words=10):\n",
    "    # Create dictionary and corpus\n",
    "    dictionary = Dictionary(token_per_tweet)\n",
    "    corpus = [dictionary.doc2bow(text) for text in token_per_tweet]\n",
    "\n",
    "    # Extract top n words for each topic\n",
    "    topics = lda_model.show_topics(num_topics=lda_model.num_topics, num_words=top_n_words, formatted=False)\n",
    "    \n",
    "    # Collect all words from topics\n",
    "    all_words = [word for topic in topics for word, _ in topic[1]]\n",
    "    \n",
    "    # Calculate unique words\n",
    "    unique_words = set(all_words)\n",
    "    total_words = len(all_words)\n",
    "\n",
    "    # Topic Diversity Score\n",
    "    if total_words == 0:\n",
    "        return 0\n",
    "    topic_diversity_score = len(unique_words) / total_words\n",
    "    return topic_diversity_score\n",
    "\n",
    "# Train your LDA model (example)\n",
    "# lda_model = LdaModel(corpus, num_topics=10, id2word=dictionary, passes=15)\n",
    "\n",
    "# Calculate and print the Topic Diversity Score\n",
    "topic_diversity_score = calculate_topic_diversity_lda(tweets_lda, token_per_tweet, top_n_words=10)\n",
    "print(f\"Topic Diversity Score: {topic_diversity_score:.4f}\")\n"
   ]
  },
  {
   "cell_type": "markdown",
   "metadata": {},
   "source": [
    "The graph below shows a distance map of the topics.\n",
    "There sare around 4-6 really distinct topics and the rest is more of less repeated"
   ]
  },
  {
   "cell_type": "code",
   "execution_count": 19,
   "metadata": {},
   "outputs": [
    {
     "data": {
      "text/html": [
       "\n",
       "<link rel=\"stylesheet\" type=\"text/css\" href=\"https://cdn.jsdelivr.net/gh/bmabey/pyLDAvis@3.4.0/pyLDAvis/js/ldavis.v1.0.0.css\">\n",
       "\n",
       "\n",
       "<div id=\"ldavis_el926871406076089916323223317717\" style=\"background-color:white;\"></div>\n",
       "<script type=\"text/javascript\">\n",
       "\n",
       "var ldavis_el926871406076089916323223317717_data = {\"mdsDat\": {\"x\": [-0.28315144254236574, -0.03058734459393527, -0.267922207379219, 0.04052009499138702, 0.01927881376701683, 0.07396270658138145, 0.12132601147034149, 0.037222411235843286, 0.23783486267804624, 0.051516093791503785], \"y\": [-0.05716434936229636, 0.2028916350452361, -0.042571393903742864, 0.19287567196260647, 0.07293133230602666, 0.1552252819295149, -0.027864274049659698, -0.13979001512113903, -0.0812430745973112, -0.275290814209235], \"topics\": [1, 2, 3, 4, 5, 6, 7, 8, 9, 10], \"cluster\": [1, 1, 1, 1, 1, 1, 1, 1, 1, 1], \"Freq\": [14.697356932927866, 14.011334114658633, 11.717799317621077, 10.300454042502418, 10.08085774093584, 9.65270359115254, 7.968424774171649, 7.41592054508535, 7.2307297816778, 6.924419159266826]}, \"tinfo\": {\"Term\": [\"\\u05dc\\u05d9\", \"\\u05d7\\u05d5\\u05e7\", \"\\u05d4\\u05de\\u05e9\\u05e4\\u05d8\", \"\\u05d9\\u05e1\\u05d5\\u05d3\", \"\\u05d9\\u05e9\\u05e8\\u05d0\\u05dc\", \"\\u05d8\\u05d5\\u05d1\", \"\\u05d0\\u05ea\\u05dd\", \"\\u05dc\\u05da\", \"\\u05d1\\u05d9\\u05ea\", \"\\u05d4\\u05db\\u05d9\", \"\\u05ea\\u05d5\\u05d3\\u05d4\", \"\\u05dc\\u05de\\u05d4\", \"\\u05d4\\u05e1\\u05d1\\u05d9\\u05e8\\u05d5\\u05ea\", \"\\u05d1\\u05d2\\\"\\u05e5\", \"\\u05e9\\u05e0\\u05d4\", \"\\u05dc\\u05db\\u05dd\", \"\\u05e9\\u05d4\\u05d5\\u05d0\", \"\\u05e9\\u05d5\\u05e4\\u05d8\\u05d9\\u05dd\", \"\\u05de\\u05de\\u05e9\\u05dc\\u05d4\", \"\\u05de\\u05d0\\u05d5\\u05d3\", \"\\u05d1\\u05d5\\u05e9\\u05d4\", \"\\u05d7\", \"\\u05e4\\u05e2\\u05dd\", \"\\u05e6\\u05e8\\u05d9\\u05da\", \"\\u05e8\\u05d0\\u05e9\", \"\\u05d1\\u05df\", \"\\u05e9\\u05d0\\u05ea\\u05d4\", \"\\u05e9\\u05d6\\u05d4\", \"\\u05d4\\u05d3\\u05d9\\u05df\", \"\\u05d4\\u05e2\\u05dc\\u05d9\\u05d5\\u05df\", \"\\u05d4\\u05e2\\u05dc\\u05d9\\u05d5\\u05df\", \"\\u05d4\\u05d7\\u05d5\\u05e7\", \"\\u05d4\\u05d3\\u05de\\u05d5\\u05e7\\u05e8\\u05d8\\u05d9\\u05d4\", \"\\u05e0\\u05e8\\u05d0\\u05d4\", \"\\u05d1\\u05d2\\u05e6\", \"\\u05d4\\u05d9\\u05d9\\u05ea\\u05d9\", \"\\u05e2\\u05d5\\u05e9\\u05d4\", \"\\u05d3\\u05d9\", \"\\u05d0\\u05de\\u05e8\", \"\\u05d1\\u05d2\\u05f4\\u05e6\", \"\\u05d3\\u05d5\\u05d5\\u05e7\\u05d0\", \"\\u05d4\\u05e4\\u05e1\\u05d9\\u05e7\\u05d4\", \"\\u05d7\\u05d5\\u05e7\\u05d9\\u05dd\", \"\\u05d4\\u05d1\\u05e0\\u05ea\\u05d9\", \"\\u05d1\\u05d0\", \"\\u05d1\\u05e1\\u05d3\\u05e8\", \"\\u05dc\\u05de\\u05d9\", \"\\u05d9\\u05d4\\u05d5\\u05d3\\u05d9\\u05dd\", \"\\u05e9\\u05d5\\u05d5\\u05d4\", \"\\u05d0\\u05d6\\u05e8\\u05d7\\u05d9\\u05dd\", \"\\u05dc\\u05d7\\u05d5\\u05e7\\u05e7\", \"\\u05e9\\u05e6\\u05e8\\u05d9\\u05da\", \"\\u05d4\\u05d4\\u05d7\\u05dc\\u05d8\\u05d4\", \"\\u05d9\\u05d0\\u05d9\\u05e8\", \"\\u05d1\\u05db\\u05dc\\u05d0\", \"\\u05d1\\u05d0\\u05e8\\u05e5\", \"\\u05de\\u05d1\\u05d9\\u05e0\\u05d9\\u05dd\", \"\\u05d4\\u05e8\\u05e9\\u05d5\\u05ea\", \"\\u05e8\\u05d0\\u05d9\\u05ea\\u05d9\", \"\\u05e2\\u05e6\\u05d5\\u05d1\", \"\\u05e6\\u05e8\\u05d9\\u05db\\u05d4\", \"\\u05dc\\u05d9\", \"\\u05dc\\u05de\\u05d4\", \"\\u05dc\\u05d4\\u05d1\\u05d9\\u05df\", \"\\u05e9\\u05d4\\u05d5\\u05d0\", \"\\u05d5\\u05d0\\u05e0\\u05d9\", \"\\u05d0\\u05d6\", \"\\u05d0\\u05d5\\u05de\\u05e8\", \"\\u05dc\\u05d4\\u05d9\\u05d5\\u05ea\", \"\\u05e6\\u05e8\\u05d9\\u05da\", \"\\u05de\\u05de\\u05e9\", \"\\u05d9\\u05db\\u05d5\\u05dc\", \"\\u05d0\\u05d9\\u05df\", \"\\u05dc\\u05e2\\u05e9\\u05d5\\u05ea\", \"\\u05e8\\u05d5\\u05e6\\u05d4\", \"\\u05e9\\u05d0\\u05e0\\u05d9\", \"\\u05d5\\u05dc\\u05d0\", \"\\u05e9\\u05dc\\u05d0\", \"\\u05db\\u05d1\\u05e8\", \"\\u05d4\\u05d6\\u05d4\", \"\\u05dc\\u05da\", \"\\u05e4\\u05d4\", \"\\u05de\\u05d3\\u05d9\\u05e0\\u05d4\", \"\\u05dc\\u05d4\\u05dd\", \"\\u05d4\\u05d9\\u05d5\\u05dd\", \"\\u05d4\\u05de\\u05e9\\u05e4\\u05d8\", \"\\u05d1\\u05df\", \"\\u05d4\\u05d3\\u05d9\\u05df\", \"\\u05e4\\u05e1\\u05e7\", \"\\u05d3\\u05de\\u05d5\\u05e7\\u05e8\\u05d8\\u05d9\\u05d4\", \"\\u05d1\\u05d2\\u05e5\", \"\\u05d4\\u05d9\\u05ea\\u05d4\", \"\\u05d2\\u05d1\\u05d9\\u05e8\", \"\\u05d7\\u05d9\\u05d9\\u05dc\\u05d9\\u05dd\", \"\\u05e9\\u05d0\\u05ea\", \"\\u05e9\\u05d5\\u05e4\\u05d8\\u05d9\", \"\\u05e0\\u05dc\\u05d7\\u05de\\u05d9\\u05dd\", \"\\u05dc\\u05d1\\u05d9\\u05ea\", \"\\u05db\\u05d5\\u05d7\", \"\\u05d5\\u05d4\\u05dd\", \"\\u05d4\\u05d9\\u05d4\\u05d5\\u05d3\\u05d9\", \"\\u05de\\u05ea\\u05d9\\u05dd\", \"\\u05d0\\u05d7\\u05e8\\u05d9\\u05dd\", \"\\u05e2\\u05e9\\u05d5\", \"\\u05d4\\u05e8\\u05d0\\u05e9\", \"\\u05de\\u05dc\\u05d7\\u05de\\u05ea\", \"\\u05d7\\u05d9\\u05d9\\u05dc\", \"\\u05d0\\u05de\\u05d9\\u05ea\\u05d9\", \"\\u05d0\\u05db\\u05e4\\u05ea\", \"\\u05dc\\u05e9\\u05de\\u05d5\\u05e8\", \"\\u05d1\\u05e6\\u05d3\", \"\\u05d1\\u05d4\\u05d0\\u05d2\", \"\\u05d4\\u05d0\\u05d7\\u05e8\\u05d5\\u05df\", \"\\u05d7\\u05d5\\u05e9\\u05d1\\u05ea\", \"\\u05d4\\u05e1\\u05d9\\u05e4\\u05d5\\u05e8\", \"\\u05d1\\u05d9\\u05ea\", \"\\u05d7\\u05d8\\u05d5\\u05e4\\u05d9\\u05dd\", \"\\u05d5\\u05d0\\u05ea\", \"\\u05d1\\u05e2\\u05d6\\u05d4\", \"\\u05d1\\u05dc\\u05ea\\u05d9\", \"\\u05d4\\u05e2\\u05dd\", \"\\u05d4\\u05e9\\u05de\\u05d0\\u05dc\", \"\\u05d4\\u05de\\u05d3\\u05d9\\u05e0\\u05d4\", \"\\u05d4\\u05db\\u05e0\\u05e1\\u05ea\", \"\\u05d1\\u05d6\\u05de\\u05df\", \"\\u05d4\\u05d6\\u05d0\\u05ea\", \"\\u05e6\\u05e8\\u05d9\\u05db\\u05d9\\u05dd\", \"\\u05de\\u05dc\\u05d7\\u05de\\u05d4\", \"\\u05d4\\u05d6\\u05d5\", \"\\u05e9\\u05d4\\u05dd\", \"\\u05d9\\u05e9\\u05e8\\u05d0\\u05dc\", \"\\u05dc\\u05e0\\u05d5\", \"\\u05dc\\u05d4\\u05dd\", \"\\u05d4\\u05de\\u05de\\u05e9\\u05dc\\u05d4\", \"\\u05d5\\u05dc\\u05d0\", \"\\u05d4\\u05de\\u05dc\\u05d7\\u05de\\u05d4\", \"\\u05e9\\u05dc\\u05d0\", \"\\u05e2\\u05db\\u05e9\\u05d9\\u05d5\", \"\\u05d9\\u05d4\\u05d9\\u05d4\", \"\\u05db\\u05d1\\u05e8\", \"\\u05d8\\u05d5\\u05d1\", \"\\u05d4\\u05db\\u05d9\", \"\\u05e4\\u05e2\\u05dd\", \"\\u05d2\\u05d3\\u05d5\\u05dc\", \"\\u05dc\\u05d5\\u05d9\\u05df\", \"\\u05de\\u05d3\\u05d1\\u05e8\", \"\\u05d9\\u05e4\\u05d4\", \"\\u05d5\\u05d0\\u05ea\\u05d4\", \"\\u05e7\\u05d5\\u05e8\\u05d4\", \"\\u05d9\\u05dc\\u05d3\\u05d9\\u05dd\", \"\\u05db\\u05d0\\u05dc\\u05d4\", \"\\u05d0\\u05d5\\u05d9\", \"\\u05dc\\u05d3\\u05e2\\u05ea\\u05d9\", \"\\u05e0\\u05e9\\u05de\\u05e2\", \"\\u05e2\\u05d3\\u05d9\\u05e3\", \"\\u05de\\u05d8\\u05d5\\u05de\\u05d8\\u05dd\", \"\\u05d1\\u05d3\\u05e8\\u05da\", \"\\u05de\\u05ea\", \"\\u05d7\\u05e9\\u05d1\\u05ea\\u05d9\", \"\\u05d8\\u05d5\\u05d1\\u05d9\\u05dd\", \"\\u05e7\\u05dc\", \"\\u05e4\\u05e1\\u05dc\", \"\\u05d4\\u05d9\\u05e1\\u05d5\\u05d3\", \"\\u05d9\\u05dc\\u05d3\", \"\\u05de\\u05d6\\u05dc\", \"\\u05dc\\u05e0\\u05e6\\u05d7\", \"\\u05e7\\u05d5\\u05dc\", \"\\u05d2\\u05e8\\u05d5\\u05e2\", \"\\u05de\\u05e9\\u05d7\\u05e7\", \"\\u05e0\\u05d5\\u05e8\\u05d0\", \"\\u05de\\u05d0\\u05d5\\u05d3\", \"\\u05e9\\u05d6\\u05d4\", \"\\u05d3\\u05d1\\u05e8\", \"\\u05d1\\u05d0\\u05de\\u05ea\", \"\\u05db\\u05d6\\u05d4\", \"\\u05dc\\u05d2\\u05de\\u05e8\\u05d9\", \"\\u05e7\\u05e9\\u05d4\", \"\\u05d3\\u05d1\\u05e8\\u05d9\\u05dd\", \"\\u05e4\\u05e9\\u05d5\\u05d8\", \"\\u05db\\u05db\\u05d4\", \"\\u05dc\\u05d6\\u05d4\", \"\\u05dc\\u05d9\", \"\\u05d7\\u05d5\\u05e9\\u05d1\", \"\\u05d0\\u05d7\\u05ea\", \"\\u05e9\\u05d9\\u05e9\", \"\\u05d9\\u05d4\\u05d9\\u05d4\", \"\\u05e9\\u05d4\\u05d5\\u05d0\", \"\\u05d0\\u05d9\\u05da\", \"\\u05d0\\u05d9\\u05df\", \"\\u05dc\\u05da\", \"\\u05d0\\u05d6\", \"\\u05dc\\u05de\\u05d4\", \"\\u05d4\\u05d6\\u05d4\", \"\\u05e9\\u05dc\\u05d0\", \"\\u05d0\\u05e0\\u05e9\\u05d9\\u05dd\", \"\\u05e2\\u05db\\u05e9\\u05d9\\u05d5\", \"\\u05e4\\u05d4\", \"\\u05de\\u05dc\\u05d0\", \"\\u05d1\\u05d2\\\"\\u05e6\", \"\\u05e2\\u05d6\\u05d4\", \"\\u05d4\\u05e9\\u05d5\\u05e4\\u05d8\\u05d9\\u05dd\", \"15\", \"\\u05e1\\u05d5\\u05e3\", \"\\u05d3\\u05d9\\u05e7\\u05d8\\u05d8\\u05d5\\u05e8\\u05d4\", \"\\u05dc\\u05d7\\u05d5\\u05e7\", \"\\u05dc\\u05d5\\u05de\\u05e8\", \"\\u05d5\\u05d0\\u05dd\", \"\\u05d0\\u05d7\\u05d9\\u05dd\", \"\\u05de\\u05d9\\u05dc\\u05d4\", \"\\u05d9\\u05d4\\u05d9\\u05d5\", \"\\u05e8\\u05d7\\u05d1\\u05d4\", \"\\u05dc\\u05e9\\u05e0\\u05d5\\u05ea\", \"\\u05d4\\u05d7\\u05dc\\u05d8\\u05d5\\u05ea\", \"\\u05d1\\u05e6\\u05d5\\u05e8\\u05d4\", \"\\u05d1\\u05d3\\u05de\\u05d5\\u05e7\\u05e8\\u05d8\\u05d9\\u05d4\", \"\\u05d1\\u05e7\\u05e8\\u05d5\\u05d1\", \"\\u05e2\\u05d1\\u05d3\", \"\\u05d0\\u05de\\u05df\", \"\\u05d5\\u05de\\u05d9\", \"\\u05d1\\u05d9\\u05e7\\u05d5\\u05e8\\u05ea\", \"\\u05d1\\u05d7\\u05d5\\u05e7\", \"\\u05de\\u05d3\\u05d4\\u05d9\\u05dd\", \"\\u05d4\\u05dc\\u05d5\\u05d7\\u05de\\u05d9\\u05dd\", \"\\u05dc\\u05d9\\u05de\\u05d9\\u05df\", \"\\u05d1\\u05d4\\u05e1\\u05db\\u05de\\u05d4\", \"\\u05de\\u05d5\\u05ea\\u05e8\", \"\\u05de\\u05d9\\u05dc\\u05d9\\u05d5\\u05df\", \"\\u05e9\\u05dc\\u05de\\u05d4\", \"\\u05d4\\u05e6\\u05d9\\u05d1\\u05d5\\u05e8\", \"\\u05d9\\u05de\\u05d9\\u05df\", \"\\u05de\\u05de\\u05e9\\u05dc\\u05ea\", \"\\u05d9\\u05e9\\u05e8\\u05d0\\u05dc\", \"\\u05d4\\u05e6\\u05d1\\u05d0\", \"\\u05d4\\u05d9\\u05de\\u05d9\\u05df\", \"\\u05de\\u05d3\\u05d9\\u05e0\\u05ea\", \"\\u05d4\\u05e2\\u05e8\\u05d1\", \"\\u05d1\\u05d3\\u05d9\\u05d5\\u05e7\", \"\\u05db\\u05d5\\u05dc\\u05e0\\u05d5\", \"\\u05e6\\u05e8\\u05d9\\u05da\", \"\\u05d6\\u05de\\u05df\", \"\\u05d0\\u05d9\\u05df\", \"\\u05e9\\u05dc\\u05d0\", \"\\u05d5\\u05dc\\u05d0\", \"\\u05d4\\u05de\\u05d3\\u05d9\\u05e0\\u05d4\", \"\\u05d7\\u05d9\\u05d5\\u05ea\", \"\\u05e9\\u05e0\\u05d4\", \"\\u05e9\\u05d5\\u05e4\\u05d8\\u05d9\\u05dd\", \"\\u05d7\", \"\\u05d8\\u05d5\\u05d1\\u05d4\", \"\\u05e1\\u05d2\\u05dc\", \"\\u05e9\\u05e8\\u05d4\", \"\\u05dc\\u05e4\\u05e1\\u05d5\\u05dc\", \"#\\u05d4\\u05d9\\u05d0\", \"\\u05e6\\u05d5\\u05d3\\u05e7\", \"\\u05e1\\u05d1\\u05d9\\u05e8\", \"\\u05e7\\u05e8\\u05d4\", \"\\u05e2\\u05de\\u05d9\\u05ea\", \"\\u05d1\\u05d8\\u05d5\\u05d7\", \"\\ufe0f\", \"\\u05d1\\u05d9\\u05d5\\u05dd\", \"\\u05e8\\u05e4\\u05d5\\u05e8\\u05de\\u05d4\", \"\\u05de\\u05e2\\u05e8\\u05db\\u05ea\", \"\\u05d4\\u05d4\\u05e4\\u05d9\\u05db\\u05d4\", \"\\u05d9\\u05d5\\u05d3\\u05e2\\u05ea\", \"#\\u05d9\\u05e9\\u05d9\", \"\\u05d1\\u05d9\\u05d7\\u05d3\", \"\\u05d1\\u05d1\\u05d7\\u05d9\\u05e8\\u05d5\\u05ea\", \"\\u05dc\\u05d7\\u05d9\\u05d5\\u05ea\", \"#\\u05d1\\u05e0\\u05e7\", \"\\u05d7\\u05d2\", \"\\u05de\\u05e9\\u05e4\\u05d8\\u05d9\\u05ea\", \"\\u05d4\\u05d1\\u05d9\\u05ea\", \"\\u05d4\\u05d7\\u05e7\\u05d9\\u05e7\\u05d4\", \"\\u05d4\\u05d0\\u05e1\\u05d5\\u05df\", \"\\u05dc\\u05d4\\u05d2\\u05d9\\u05e2\", \"\\u05d1\\u05d9\\u05d1\\u05d9\", \"\\u05d7\\u05e6\\u05d9\", \"\\u05d0\\u05d9\\u05e4\\u05d4\", \"\\u05d9\\u05d0\", \"\\u05dc\\u05da\", \"\\u05d9\\u05d5\\u05dd\", \"\\u05d7\\u05e9\\u05d5\\u05d1\", \"\\u05d9\\u05e9\\u05e8\\u05d0\\u05dc\", \"\\u05d0\\u05d9\\u05e9\", \"\\u05d4\\u05de\\u05de\\u05e9\\u05dc\\u05d4\", \"\\u05d4\\u05d9\\u05d5\\u05dd\", \"\\u05d4\\u05d6\\u05d4\", \"\\u05ea\\u05de\\u05d9\\u05d3\", \"\\u05d7\\u05d9\\u05d5\\u05ea\", \"\\u05d4\\u05de\\u05d3\\u05d9\\u05e0\\u05d4\", \"\\u05e2\\u05d3\\u05d9\\u05d9\\u05df\", \"\\u05d7\\u05d5\\u05e7\", \"\\u05d9\\u05e1\\u05d5\\u05d3\", \"\\u05d4\\u05e1\\u05d1\\u05d9\\u05e8\\u05d5\\u05ea\", \"\\u05d1\\u05d2\\\"\\u05e5\", \"\\u05e2\\u05d9\\u05dc\\u05ea\", \"\\u05d7\\u05d5\\u05e7\\u05d9\", \"\\u05dc\\u05d1\\u05d8\\u05dc\", \"\\u05e1\\u05de\\u05db\\u05d5\\u05ea\", \"\\u05d1\\u05e8\\u05d5\\u05d1\", \"\\u05d1\\u05e8\\u05e7\", \"\\u05d1\\u05d2\\u05f4\\u05e5\", \"12\", \"\\u05d4\\u05d9\\u05e9\\u05e8\\u05d0\\u05dc\\u05d9\\u05ea\", \"\\u05d7\\u05d5\\u05e7\\u05d4\", \"\\u05ea\\u05d2\\u05d9\\u05d3\", \"87\", \"\\u05e4\\u05e1\\u05d9\\u05e7\\u05ea\", \"\\u05d9\\u05e8\\u05d9\\u05d1\", \"\\u05d1\\u05d1\\u05e7\\u05e9\\u05d4\", \"\\u05de\\u05d9\\u05dc\\u05d9\\u05dd\", \"\\u05d4\\u05d9\\u05e9\\u05e8\\u05d0\\u05dc\\u05d9\", \"\\u05d4\\u05e4\\u05d5\\u05da\", \"\\u05d4\\u05e7\\u05d5\\u05d0\\u05dc\\u05d9\\u05e6\\u05d9\\u05d4\", \"\\u05d7\\u05e7\\u05d9\\u05e7\\u05d4\", \"\\u05dc\\u05de\\u05d3\\u05d9\\u05e0\\u05d4\", \"\\u05d4\\u05e2\\u05d9\\u05e7\\u05e8\", \"\\u05d1\\u05e9\\u05e0\\u05d4\", \"\\u05e0\\u05e9\\u05d0\\u05e8\", \"\\u05e2\\u05e8\\u05d5\\u05e5\", \"\\u05e4\\u05e1\\u05d9\\u05e7\\u05d4\", \"\\u05d3\\u05d9\\u05df\", \"\\u05db\\u05e0\\u05e1\\u05ea\", \"\\u05d4\\u05d9\\u05d5\\u05dd\", \"\\u05d4\\u05de\\u05dc\\u05d7\\u05de\\u05d4\", \"\\u05e2\\u05db\\u05e9\\u05d9\\u05d5\", \"\\u05d0\\u05e4\\u05e9\\u05e8\", \"\\u05d4\\u05e9\\u05e0\\u05d4\", \"\\u05e9\\u05d0\\u05d9\\u05df\", \"\\u05de\\u05d7\\u05e8\", \"\\u05d9\\u05db\\u05d5\\u05dc\\u05d9\\u05dd\", \"\\u05de\\u05dc\\u05d7\\u05de\\u05d4\", \"\\u05d4\\u05e2\\u05dd\", \"\\u05dc\\u05e0\\u05d5\", \"\\u05d4\\u05d6\\u05de\\u05df\", \"\\u05de\\u05e9\\u05e4\\u05d8\", \"\\u05d4\\u05d7\\u05d9\\u05d9\\u05dc\\u05d9\\u05dd\", \"\\u05d4\\u05e8\\u05e4\\u05d5\\u05e8\\u05de\\u05d4\", \"\\u05db\\u05d4\\u05df\", \"\\u05d4\\u05e8\\u05e2\\u05dc\", \"\\u05d0\\u05d1\\u05d9\\u05d1\", \"\\u05d1\\u05d4\\u05dd\", \"\\u05d4\\u05d1\\u05e2\\u05d9\\u05d4\", \"\\u05d0\\u05d7\\u05d3\\u05d5\\u05ea\", \"\\u05d1\\u05e2\\u05e6\\u05dd\", \"\\u05d1\\u05e9\\u05dd\", \"\\u05e9\\u05dc\\u05d5\\u05dd\", \"#\\u05d2\\u05dc\\u05d9\\u05ea\", \"\\u05de\\u05db\\u05d5\\u05e0\\u05ea\", \"\\u05d4\\u05e9\\u05dd\", \"\\u05d9\\u05d4\\u05d5\\u05d3\\u05d9\", \"\\u05ea\\u05dc\", \"\\u05d2\\u05e0\\u05e5\", \"\\u05dc\\u05db\\u05ea\\u05d5\\u05d1\", \"\\u05e2\\u05e8\\u05d1\", \"\\u05dc\\u05db\\u05e0\\u05e1\\u05ea\", \"\\u05e8\\u05d1\", \"\\u05d7\\u05d9\\u05d9\\u05dc\\u05d9\", \"\\u05db\\u05d9\\u05e3\", \"\\u05de\\u05d5\\u05d5\\u05ea\", \"\\u05e9\\u05d1\\u05d9\\u05ea\", \"\\u05e9\\u05d5\\u05e4\\u05d8\", \"\\u05d0\\u05e8\\u05d2\\u05d5\\u05df\", \"\\u05d1\\u05e6\\u05d1\\u05d0\", \"\\u05d4\\u05d2\\u05d9\\u05e2\", \"\\u05d7\\u05de\\u05d0\\u05e1\", \"\\u05d3\\u05d9\\u05e1\\u05d8\\u05dc\", \"\\u05d0\\u05e4\\u05e1\", \"\\u05de\\u05e2\\u05e0\\u05d9\\u05d9\\u05df\", \"\\u05d7\\u05d9\\u05d5\\u05ea\", \"\\u05d5\\u05db\\u05dc\", \"\\u05d1\\u05e0\\u05d9\", \"\\u05d0\\u05d9\\u05da\", \"\\u05d1\\u05d9\\u05ea\", \"\\u05e2\\u05db\\u05e9\\u05d9\\u05d5\", \"\\u05ea\\u05d5\\u05d3\\u05d4\", \"\\u05d1\\u05d9\\u05d8\\u05d5\\u05dc\", \"\\u05e8\\u05d5\\u05d0\\u05d4\", \"\\u05d4\\u05e8\\u05d5\\u05d1\", \"\\u05d4\\u05d7\\u05dc\\u05d8\\u05ea\", \"\\u05e0\\u05d9\\u05ea\\u05df\", \"\\u05d0\\u05d9\\u05ea\\u05da\", \"\\u05d0\\u05dc\\u05e4\\u05d9\", \"\\u05e9\\u05de\\u05d0\\u05dc\", \"\\u05d0\\u05d5\\u05de\\u05e8\\u05d9\\u05dd\", \"\\u05d7\\u05d5\\u05e5\", \"\\u05d4\\u05d9\\u05d7\\u05d9\\u05d3\\u05d4\", \"\\u05de\\u05d7\\u05d1\\u05dc\", \"\\u05e9\\u05d4\\u05de\\u05de\\u05e9\\u05dc\\u05d4\", \"\\u05e8\\u05d0\\u05e9\\u05d5\\u05df\", \"\\u05d9\\u05e9\\u05e8\\u05d0\\u05dc\\u05d9\\u05dd\", \"\\u05dc\\u05e2\\u05d6\\u05d4\", \"\\u05d4\\u05e9\\u05d5\\u05e4\\u05d8\", \"\\u05e8\\u05e6\\u05d7\", \"\\u05dc\\u05e2\\u05d1\\u05d5\\u05d3\", \"\\u05d0\\u05e0\\u05e9\\u05d9\", \"\\u05d4\\u05e9\\u05e8\", \"\\u05d5\\u05e2\\u05d3\\u05d9\\u05d9\\u05df\", \"1400\", \"\\u05d1\\u05dc\\u05d4\", \"\\u05dc\\u05d4\\u05e1\\u05d1\\u05d9\\u05e8\", \"\\u05d1\\u05de\\u05e2\\u05e8\\u05db\\u05ea\", \"\\u05e0\\u05dc\\u05d7\\u05dd\", \"\\u05d4\\u05dc\\u05d9\\u05dc\\u05d4\", \"\\u05e7\\u05d9\\u05e6\\u05d5\\u05e0\\u05d9\", \"\\u05dc\\u05db\\u05dd\", \"\\u05d0\\u05ea\\u05dd\", \"\\u05de\\u05d0\\u05d5\\u05ea\", \"\\u05dc\\u05e8\\u05d0\\u05d5\\u05ea\", \"\\u05de\\u05d6\\u05d4\", \"\\u05d1\\u05d5\\u05d0\", \"\\u05d4\\u05d7\\u05de\\u05d0\\u05e1\", \"\\u05de\\u05e7\\u05d5\\u05dd\", \"\\u05e2\\u05d5\\u05e9\\u05d9\\u05dd\", \"\\u05d4\\u05db\\u05dc\", \"\\u05d1\\u05d0\\u05d5\\u05e7\\u05d8\\u05d5\\u05d1\\u05e8\", \"\\u05db\\u05dc\\u05d5\\u05dd\", \"\\u05d0\\u05d9\\u05df\", \"\\u05d1\\u05db\\u05dc\", \"\\u05e7\\u05e6\\u05ea\", \"\\u05de\\u05de\\u05e9\\u05dc\\u05d4\", \"\\u05e8\\u05d0\\u05e9\", \"2\", \"\\u05de\\u05e0\\u05d3\\u05d8\\u05d9\\u05dd\", \"1\", \"64\", \"\\u05e9\\u05dc\\u05d8\\u05d5\\u05df\", \"\\u05d7\\u05d6\\u05e7\", \"\\u05d7\\u05d9\", \"\\u05de\\u05e1\\u05db\\u05d9\\u05dd\", \"8\", \"4\", \"2024\", \"\\u05dc\\u05d4\\u05e2\\u05d1\\u05d9\\u05e8\", \"\\u05e2\\u05d5\\u05dc\\u05dd\", \"\\u05e8\\u05e2\", \"\\u05de\\u05d7\\u05d3\\u05e9\", \"\\u05d5\\u05d5\\u05d0\\u05d5\", \"\\u05de\\u05e9\\u05de\\u05e2\\u05d5\\u05ea\", \"\\u05d3\\u05d5\\u05d7\\u05d4\", \"\\u05dc\\u05e6\\u05e2\\u05e8\\u05d9\", \"\\u05e8\\u05d1\\u05d9\\u05dd\", \"\\u05e9\\u05d9\\u05e0\\u05d5\\u05d9\", \"\\u05d9\\u05de\\u05d9\", \"\\u05dc\\u05d4\\u05d1\\u05d9\\u05d0\", \"5\", \"\\u05d7\\u05e1\\u05e8\\u05d9\", \"\\u05de\\u05d1\\u05d9\\u05ea\", \"\\u05e8\\u05d2\\u05d9\\u05dc\", \"\\u05d4\\u05de\\u05e9\\u05d7\\u05e7\", \"3\", \"\\u05d0\\u05d7\\u05e8\\u05d9\\u05d5\\u05ea\", \"\\u05de\\u05e0\\u05e1\\u05d4\", \"\\u05d4\\u05de\\u05de\\u05e9\\u05dc\\u05d4\", \"\\u05d9\\u05e9\\u05e8\\u05d0\\u05dc\", \"\\u05e0\\u05ea\\u05e0\\u05d9\\u05d4\\u05d5\", \"7\", \"\\u05d1\\u05e8\\u05d5\\u05e8\", \"\\u05d5\\u05dc\\u05d0\", \"\\u05d1\\u05d5\\u05e9\\u05d4\", \"\\u05d0\\u05e1\\u05ea\\u05e8\", \"\\u05d1\\u05de\\u05d3\\u05d9\\u05e0\\u05d4\", \"\\u05d3\\u05de\\u05d5\\u05e7\\u05e8\\u05d8\\u05d9\\u05ea\", \"\\u05d7\\u05d1\\u05e8\", \"\\u05d0\\u05d7\\u05d9\", \"\\u05d9\\u05d0\\u05dc\\u05dc\\u05d4\", \"\\u05d4\\u05e4\\u05d9\\u05db\\u05d4\", \"\\u05d4\\u05de\\u05e9\\u05e4\\u05d8\\u05d9\\u05ea\", \"\\u05dc\\u05e7\\u05e8\\u05d5\\u05d0\", \"\\u05de\\u05db\\u05d9\\u05e8\", \"\\u05d1\\u05d4\\u05e6\\u05dc\\u05d7\\u05d4\", \"\\u05d1\\u05d9\\u05e8\\u05d5\\u05e9\\u05dc\\u05d9\\u05dd\", \"\\u05d1\\u05d4\\u05d7\\u05dc\\u05d8\", \"\\u05dc\\u05e7\\u05d7\\u05ea\", \"\\u05d7\\u05ea\\u05d9\\u05db\\u05ea\", \"\\u05d0\\u05ea\\u05de\\u05d5\\u05dc\", \"\\u05db\\u05d5\\u05ea\\u05d1\", \"710\", \"\\u05d6\\u05d1\\u05dc\", \"\\u05e2\\u05dc\\u05d5\\u05d1\", \"\\u05d7\\u05d5\\u05e1\\u05e8\", \"\\u05d5\\u05e8\\u05e7\", \"\\u05d4\\u05d0\\u05d6\\u05e8\\u05d7\\u05d9\\u05dd\", \"\\u05e1\\u05d1\\u05d9\\u05e8\\u05d5\\u05ea\", \"\\u05e8\\u05d0\\u05d5\\u05d9\", \"\\u05e2\\u05d9\\u05ea\\u05d5\\u05e0\\u05d0\\u05d9\", \"\\u05d1\\u05d8\\u05d5\\u05d5\\u05d9\\u05d8\\u05e8\", \"\\u05e9\\u05e0\\u05d9\\u05d4\", \"\\u05d1\\u05da\", \"\\u05d0\\u05dc\\u05e3\", \"\\u05e7\\u05e6\\u05ea\", \"\\u05d9\\u05d5\\u05d3\\u05e2\", \"\\u05d0\\u05d4\", \"\\u05e9\\u05d0\\u05ea\\u05d4\", \"\\u05d1\\u05db\\u05dc\", \"\\u05e8\\u05d5\\u05e6\\u05d4\", \"\\u05d4\\u05d9\\u05d9\\u05ea\", \"\\u05dc\\u05da\", \"\\u05d4\\u05d5\\u05dc\\u05da\", \"\\u05e9\\u05d9\\u05d4\\u05d9\\u05d4\", \"\\u05d0\\u05d5\\u05dc\\u05d9\"], \"Freq\": [8191.0, 4591.0, 5222.0, 3935.0, 8616.0, 3985.0, 3773.0, 8494.0, 4550.0, 3276.0, 2627.0, 4792.0, 2486.0, 2478.0, 2498.0, 2454.0, 3913.0, 2289.0, 1941.0, 2900.0, 1847.0, 2099.0, 2241.0, 4402.0, 1764.0, 2322.0, 3292.0, 2984.0, 2244.0, 2296.0, 2295.7133305013235, 2272.1324281593315, 2252.702978679907, 2105.154488979468, 1673.8643589399296, 1663.8015867260006, 1344.0882162575338, 1330.7376723602342, 1122.056722811532, 821.872847003071, 798.4173177354788, 795.7047530740062, 792.022868809537, 778.9815362826, 769.2537254644152, 749.299355385611, 742.7254477786789, 735.2538246352318, 727.5404256387129, 726.581764857698, 693.796178237756, 622.1006147397655, 576.9960154647113, 570.9820653769409, 562.7212145088329, 559.2851163472901, 555.1256429850135, 548.9546599555711, 541.0185337927892, 537.0226364114211, 653.8436419304203, 5965.736753361277, 3685.961633242335, 676.8070713277051, 2720.8625016188826, 1042.8108086334767, 3619.757895854344, 1434.120014018025, 2629.625518244214, 2707.033049462639, 1860.0372535156182, 1922.822358435512, 3613.0683769654215, 1665.9392609642478, 1456.6270136621295, 1353.1580295009028, 2189.792500685614, 2299.7153487903643, 1977.8092159145958, 2025.7990316606495, 2372.33020930106, 1729.0443416093767, 1030.6551081270457, 1346.5197995969618, 1150.8022993017062, 5221.110345137635, 2321.646353211935, 2243.415779373254, 2031.0684641701773, 1785.7099889308502, 1567.4677087419025, 1078.942179352818, 1035.5533094271993, 994.4848387307532, 933.5094674672802, 834.5063706644246, 799.0043831864526, 753.3110099334223, 741.2067837774994, 648.0221906609065, 562.676691679705, 541.360840756931, 539.7544995198263, 520.3259348067319, 507.46730726250036, 479.64454943955405, 475.20657463911795, 473.2590751559967, 457.1130644599777, 435.5208461819082, 425.74637570366264, 424.8562555085488, 419.21668132406734, 398.96970403598544, 390.4227895408628, 3915.1879687621854, 664.6897479058342, 993.3279591462815, 1872.443059286, 767.4185724425752, 2256.5455930136627, 1244.9773884178737, 2436.153990649884, 1209.042388527382, 1542.952405161891, 1343.8053284804419, 849.4742737046332, 1766.8940703808692, 930.3164033528387, 1128.8681885740461, 1915.1662128701587, 1369.005664940762, 1302.6087851071516, 1275.982847837025, 1378.8111223667438, 1079.1409787318, 1302.402540812155, 1169.5803093715272, 1019.9250222151085, 969.6759640030341, 3984.077400648732, 3275.5274241004086, 2240.639126272328, 1392.561050243153, 1333.5728256751227, 994.1712485017041, 894.0813776261892, 880.3208661686583, 801.0418904811467, 726.5424851521672, 722.4438474928498, 666.7753906969958, 639.8261308064631, 632.4006577428512, 630.8851554843242, 605.8250147621002, 579.9584908705601, 558.0196352518545, 557.535586590223, 521.2666020206361, 513.3499705940355, 511.5864701727833, 510.71534244495416, 509.15970613261214, 501.3736576232464, 483.4784972379855, 460.3824851368504, 456.29907654197865, 453.8174542144124, 437.35710728766026, 2506.488444959108, 1997.202783525529, 1804.2476762920805, 1848.2379648125202, 1423.4066368236145, 666.9455607679413, 1014.4482009108592, 756.4762630508799, 1372.5461050532438, 1235.7467005394296, 862.7712625108996, 2225.3141439623073, 997.0435678500048, 896.4197541956419, 1188.1812839672984, 1091.406721524647, 1190.920327967081, 1218.3337377692928, 1524.9059113374028, 1454.1232391179153, 1224.2865350594761, 1095.6672416148663, 1107.1642597480084, 1073.032055955545, 909.1822991703621, 920.7987098032182, 914.9549559800042, 1615.406463169353, 1429.563426318959, 1224.9418188421785, 1208.4355634670726, 1092.0960254332167, 962.9508893037473, 884.5186996220631, 802.4668403639155, 757.1855431606317, 737.3723268925378, 727.4905697796942, 691.5332130168862, 681.9811757032227, 675.9256622805955, 655.3400673981369, 646.3224010017179, 606.0435182168833, 584.0369774434763, 583.0815444318548, 576.0392753562976, 526.8061850327598, 524.4653075890518, 521.3117056022099, 517.0878825534263, 507.493539334619, 507.44357842740817, 483.31079611366243, 479.0254741835378, 446.7966211570169, 437.395871831066, 647.4101509089727, 991.7362117627206, 1134.5298837516564, 1217.8970720606383, 3823.2793184013963, 764.6606711695001, 1413.7300715120318, 1066.5929607687733, 830.3260185148283, 1055.0803553894602, 686.9999725657091, 1107.1504190636151, 742.3284784724075, 1048.2532029661945, 815.6999351933246, 799.6407763157611, 749.8045679791201, 681.237494101438, 2497.2640774475326, 2288.1680339939753, 2098.827046301924, 1408.887163532786, 1252.4045784469731, 1206.6722157411346, 1076.7533974952264, 1044.1323439383066, 1029.0342951258772, 1016.0359783118125, 1005.1835748603902, 877.326197168172, 846.6169652308334, 808.5448458437678, 765.3861893890966, 738.8552127655204, 728.6066415097117, 721.1492921785083, 672.9589661705297, 653.0206326435848, 618.5514559005695, 602.7657173525338, 599.3992189505083, 590.9742325069861, 551.7611511223947, 536.5517386282401, 530.9414629066712, 509.3335427688504, 491.248725079472, 489.34160845781867, 1929.4589919677335, 584.3493420784026, 1053.0813947664178, 1055.252136041203, 3303.0093047550085, 1428.2042925640758, 1031.0299380931592, 1946.7872821825906, 752.5118673665792, 1051.3108678538417, 1108.6898376613392, 944.6915612700165, 737.5810993266339, 801.1249917268209, 770.7468468744423, 745.8831767473615, 4590.739669503829, 3934.9306479366255, 2485.05692251187, 2477.863071407624, 1807.6505448913338, 1753.3038110231325, 1220.4721326227084, 1066.005056411068, 974.669235771174, 939.7845472886281, 875.1411496486938, 854.3877153913112, 836.7115183133483, 817.4400761585458, 565.25592175859, 543.2557690957655, 529.1806215307387, 479.9168253126551, 452.4423399289399, 450.7509268583518, 446.50404428902056, 446.412034911218, 439.32062437977186, 433.91854761094083, 430.8642174743564, 417.58010797250176, 391.9361067076314, 382.9056028708872, 360.0012631360297, 359.20731404169544, 756.5282739171154, 416.9938470895313, 1605.1575538081665, 1166.393768103548, 1547.7911102811304, 994.6256712825287, 540.2726899123871, 587.2215232539309, 483.9006061131437, 486.4236037523762, 554.2486891422376, 542.273088147754, 494.77625318994194, 1550.42138803017, 1518.3776465291023, 1110.0637417750675, 1104.928563468147, 1007.0165335095172, 774.1502439344114, 761.3990955542039, 692.09312706281, 689.035593264869, 683.5364609834606, 664.548316706847, 656.3050824577517, 644.2578111085385, 643.5347665596298, 635.117136505749, 596.4440085475081, 587.6739822463592, 556.4823656536478, 528.6103915142978, 512.9337077356375, 476.6666182238975, 471.3803312160461, 449.87168694192326, 433.47150088258326, 431.01748642482494, 428.1286553927665, 424.6648274315114, 420.2421944510005, 407.8601209194703, 396.6044394518865, 748.4727503386116, 1508.1934579211697, 826.9051465314196, 841.2347829242323, 916.1870444614401, 1156.7830504549493, 544.0826408406949, 500.2293624290241, 671.805653937485, 634.6830923538126, 546.2002224467018, 2626.0261105442087, 1172.0092001805306, 973.6819729824167, 850.1066573506183, 788.5819710567191, 763.0941012686635, 686.2058289728477, 664.8604861776007, 640.4585287613472, 595.8360661383305, 583.5859649782356, 539.854682145072, 489.90548200423785, 469.0903954438952, 467.81459617375316, 446.38112583595074, 431.80088985127446, 404.6192406448662, 397.35532129357773, 390.47924300343874, 390.17066348131874, 377.3376425578679, 370.5533660099437, 362.4998398521399, 358.7679978574937, 344.4476183124974, 343.6252898293052, 338.65684002755063, 335.0364487559065, 334.18241033217544, 2135.9688148699856, 2972.775348696974, 463.22296483416983, 694.4717132211113, 615.8592295488942, 516.1267539938739, 631.37388373101, 562.7192266255794, 567.7221020806645, 839.3571206311345, 564.5187324703635, 632.0016926293353, 788.9472078025726, 489.4144704816376, 469.0150477262421, 1940.259714852972, 1763.800196066844, 1516.9965718376175, 1045.874320530669, 1044.4930534395514, 958.8732886589697, 871.0189593642318, 854.1644272166114, 640.3973017323952, 637.7702775151209, 622.4555746934802, 616.8738621252661, 616.0004718453541, 611.7367883846091, 598.2382306106036, 584.8807381909272, 576.4512395774644, 553.0587929364641, 501.9601657698784, 469.27973113969625, 468.4155306160288, 459.68536602283876, 456.08594098803565, 448.8507991691927, 430.8989218627874, 423.340580989584, 395.0598330206123, 393.26484518014996, 383.34608685981544, 383.2201300877868, 1146.703806849692, 674.4379760453388, 498.07378151042457, 1101.6188627143374, 930.6954192323619, 661.5929293552267, 483.21773578857835, 526.381345914991, 466.3457067604247, 1846.454543041418, 1181.5118249008688, 1159.497557096081, 745.6451433000568, 732.7714176198143, 731.9931489847213, 729.276194435136, 705.8038848668457, 696.5990049403575, 687.4301720821913, 604.5989313678288, 571.8342345071932, 549.6744359865734, 511.47413954356296, 501.68445186865824, 498.8510528583696, 484.84768663706063, 479.3593340347002, 470.51422871011164, 462.1938692601013, 446.2247196729407, 438.9612105460337, 401.6836196118751, 396.47280457554604, 395.2869554679445, 370.15392017199434, 369.3634452537661, 367.3905519144386, 360.018901582566, 354.95615298687505, 614.8208358219364, 1076.846153962574, 1373.144304831884, 614.3775811818128, 1284.2702330242291, 907.285915466227, 929.1684250212865, 639.3457695053199, 1291.306222999907, 522.2873650784322, 529.8539181797142, 509.14047720045124], \"Total\": [8191.0, 4591.0, 5222.0, 3935.0, 8616.0, 3985.0, 3773.0, 8494.0, 4550.0, 3276.0, 2627.0, 4792.0, 2486.0, 2478.0, 2498.0, 2454.0, 3913.0, 2289.0, 1941.0, 2900.0, 1847.0, 2099.0, 2241.0, 4402.0, 1764.0, 2322.0, 3292.0, 2984.0, 2244.0, 2296.0, 2296.7706040150047, 2273.1895000056693, 2253.7600408525072, 2106.211423530979, 1674.9214312341726, 1664.8585242981978, 1345.1451888116865, 1331.794607018588, 1123.1137050278483, 822.9298949840838, 799.4743348586292, 796.7617833332297, 793.0799313262503, 780.0384474075126, 770.3106839628103, 750.3563188729946, 743.7823964938699, 736.3108396098877, 728.5974167219988, 727.6388425615428, 694.8532130183158, 623.1915857893748, 578.053081092634, 572.0390740847781, 563.7782601039609, 560.3421372088637, 556.1827023798652, 550.0116102572315, 542.0755038598179, 538.0795764579705, 655.5549572431219, 8191.987435070402, 4792.846757839672, 702.8461101703879, 3913.6451592771837, 1202.554820737188, 5886.769252190413, 1861.2027185612287, 4128.916289058005, 4402.641872067331, 2718.677809017307, 2891.4083821070917, 8918.9189671679, 2679.7185695755657, 2386.730680439336, 2141.440883144684, 5411.065859964364, 6133.246929264447, 5108.555128227502, 5603.137122541709, 8494.124562638926, 4276.771721009528, 1479.8006541459074, 3600.0661878346523, 4747.817794091487, 5222.169659794862, 2322.705674465922, 2244.475043308997, 2032.1277481061759, 1786.769312683776, 1568.5271141015064, 1080.001514122803, 1036.612566765537, 995.5441622264442, 934.5687960060657, 835.565719201703, 800.0636551895776, 754.3703586394474, 742.2661227960282, 649.0815718573992, 563.7360266382108, 542.4206593906492, 540.8139030590019, 521.3853044599796, 508.52668004712547, 480.7038593513789, 476.2659498206236, 474.3184334294851, 458.1723956592122, 436.5801917412519, 426.8057176301922, 425.915574825216, 420.27599908280155, 400.029070447262, 391.4821526528007, 4550.811504929818, 711.8926536426388, 1163.2614562591393, 2528.24022096619, 863.3451417868329, 3261.943142329783, 1573.5733755159677, 3957.5341531198833, 1615.9601815187057, 2390.054699169644, 1973.226170346467, 1052.2917002626655, 3069.7928426339095, 1686.1060402706928, 2554.154591297702, 8616.629279050234, 4029.3800982189086, 3600.0661878346523, 3539.4454617132515, 5411.065859964364, 2854.8389799190713, 6133.246929264447, 4849.858179922077, 2941.012458991784, 5108.555128227502, 3985.1277596700143, 3276.5778016492886, 2241.6895108913554, 1393.6114685521966, 1334.6232792149178, 995.2216587798656, 895.1317046039599, 881.3713109517414, 802.0922512431598, 727.5929379553039, 723.494222807928, 667.825710481457, 640.8765047688883, 633.4510388880216, 631.9355339056988, 606.8753571903967, 581.008894166883, 559.0699979684197, 558.5859305302447, 522.3169551051119, 514.4003620985201, 512.6372321238733, 511.76594622896135, 510.21004990953395, 502.42399034932475, 484.52901313555446, 461.43289430456645, 457.34943845075657, 454.8678331196862, 438.40747276768263, 2900.263663704439, 2984.1342998628697, 2658.345796522494, 2813.6737125587424, 2074.4964906627492, 765.39676038032, 1470.4958925903372, 964.1965237318022, 2656.7929222548887, 2305.1034940344257, 1256.2632636797402, 8191.987435070402, 1731.7724867523373, 1548.3211763899226, 3159.023748641724, 2941.012458991784, 3913.6451592771837, 4304.778309023522, 8918.9189671679, 8494.124562638926, 5886.769252190413, 4792.846757839672, 5603.137122541709, 6133.246929264447, 2457.8943717432553, 4849.858179922077, 4276.771721009528, 1616.4579898322536, 1430.615006791973, 1225.9933672632333, 1209.487246668222, 1093.1476504103125, 964.0025243939403, 885.5702634029448, 803.5185784811626, 758.2371729765262, 738.4239955364426, 728.5421620657598, 692.5847297376034, 683.0327660953467, 676.9772551129076, 656.3917398729458, 647.3739630472267, 607.0951531291078, 585.0885989070549, 584.133091444623, 577.09123227946, 527.8577361712582, 525.5169272751174, 522.3633714373467, 518.1395071826865, 508.54512513375374, 508.4951397913434, 484.36237975559635, 480.07706916858945, 447.84813141615325, 438.44744969449954, 654.7468842478596, 1107.8248755429884, 1359.4391513383175, 1587.0856751924284, 8616.629279050234, 905.4344930334648, 2353.829016065141, 1645.2879429558345, 1333.5245922890413, 2194.2524769406523, 977.1863803974501, 4402.641872067331, 1454.5420478639141, 8918.9189671679, 6133.246929264447, 5411.065859964364, 3957.5341531198833, 2639.967040012019, 2498.323565664082, 2289.227584280944, 2099.8864633189996, 1409.9465975114035, 1253.4640723767309, 1207.7315878450343, 1077.8130411961235, 1045.191766451375, 1030.0937694109489, 1017.0955356959586, 1006.2430444556468, 878.3856631735692, 847.6764691181377, 809.6043346874109, 766.4456931612659, 739.9148287612023, 729.6662070793399, 722.2088478256895, 674.0185160156653, 654.0801137683836, 619.6109776788011, 603.825242363177, 600.4588004012337, 592.0336185539485, 552.8205130806539, 537.6113508867094, 532.001006264581, 510.39317274633885, 492.3082995859211, 490.401172813996, 2441.259843820696, 613.7076473746222, 1307.5039729907992, 1359.761132380675, 8494.124562638926, 2385.4159879749977, 1489.6459451021449, 8616.629279050234, 1040.5604599232424, 3539.4454617132515, 4747.817794091487, 5603.137122541709, 1339.9830124865045, 2639.967040012019, 3957.5341531198833, 2045.4397823229294, 4591.808664351462, 3935.9995902410487, 2486.1258820846765, 2478.9321013635636, 1808.7195026955296, 1754.3727986434144, 1221.541100651168, 1067.0740130782642, 975.7381993380758, 940.8535995499724, 876.210201695403, 855.4567133507262, 837.7805590394644, 818.509092248678, 566.3250296465976, 544.3250578209161, 530.2496985369703, 480.9859168651056, 453.5113528460273, 451.81999131757414, 447.57313648926925, 447.481083540043, 440.3897262594833, 434.9875562945848, 431.9333116586366, 418.6495733236708, 393.0051578297734, 383.97491929749185, 361.0703111666182, 360.2763427128484, 1159.536197052014, 456.2994860300654, 4747.817794091487, 2854.8389799190713, 4849.858179922077, 2880.7549710023923, 843.1746373261412, 1325.9445203701594, 652.3093228509574, 749.3745366480367, 3069.7928426339095, 3261.943142329783, 4029.3800982189086, 1551.4733312972937, 1519.4296229904648, 1111.1157108192094, 1105.980617910346, 1008.0684855206185, 775.2021382908777, 762.4509787354601, 693.1450758086739, 690.0875406987932, 684.5884294303202, 665.6003304291709, 657.357069925288, 645.3097963864333, 644.5866979058596, 636.1690451140425, 597.4959643595853, 588.7259749982923, 557.5342331511004, 529.6623268665115, 513.9857036170075, 477.7186237202143, 472.4323919188906, 450.92365090692056, 434.5234267247276, 432.0694247658183, 429.180621564629, 425.71689021126565, 421.2942645496639, 408.91213382361656, 397.65646825102914, 774.4606729975526, 2108.6965316918972, 1032.5441201084577, 1181.601861360777, 1479.2596757654314, 2639.967040012019, 865.2405950076782, 809.2412009366758, 4304.778309023522, 4550.811504929818, 4849.858179922077, 2627.072609547211, 1173.0558485733784, 974.7285354663409, 851.1533012284355, 789.6286692460413, 764.1407139048794, 687.2523760077767, 665.9070252236621, 641.5051067511474, 596.8826043948947, 584.6324923603373, 540.9013478601564, 490.95209544909864, 470.13706375941103, 468.8611736356694, 447.4277093651539, 432.8474923238789, 405.6659863209004, 398.40184840980345, 391.52578478023685, 391.21719899025567, 378.3841799783538, 371.59992752170746, 363.5464018214355, 359.8144608751698, 345.49424490257763, 344.67195604760764, 339.70339050106014, 336.083016031897, 335.22899393410074, 2454.2629768947295, 3773.963609739851, 500.2874102380259, 999.52817607877, 904.6064030571642, 696.1828761656836, 1038.3509205811035, 874.9312665493511, 976.2862253502255, 2460.9903078469642, 1058.6103258043418, 1896.521665148887, 8918.9189671679, 2196.5107278525584, 1546.7860595856032, 1941.3028831713693, 1764.8432791385187, 1518.0396771246099, 1046.9174396169426, 1045.5361491550682, 959.9164185250747, 872.0621437156932, 855.2075676886583, 641.4404327554275, 638.8134195588184, 623.4986927527555, 617.9169413040945, 617.0435223234592, 612.7799859752688, 599.2813291449078, 585.923913201039, 577.4943796584519, 554.1018481896245, 503.00337810616065, 470.32285886048817, 469.45874412310326, 460.72852670440955, 457.12910788753857, 449.8942601867113, 431.94215156277994, 424.38365777243655, 396.1030131938629, 394.3080257267617, 384.38931549392413, 384.26339901447955, 1331.6695936782291, 1137.2726323199672, 643.9115328429963, 3539.4454617132515, 8616.629279050234, 2392.4767910730457, 769.4959264565763, 1731.1124472462975, 5411.065859964364, 1847.5035377226793, 1182.5610054700182, 1160.546709169977, 746.694283295555, 733.8205002802223, 733.0421931219518, 730.3252546799811, 706.8530252945995, 697.6481806467633, 688.4792540126525, 605.6480140083929, 572.8832492363817, 550.7234920101469, 512.5232523021848, 502.7335687621969, 499.9001610563813, 485.89677197933133, 480.4084164248069, 471.5633920013613, 463.2429125285433, 447.27376079440467, 440.0103527618507, 402.7327795873462, 397.5219877311147, 396.33616462026714, 371.203057178572, 370.4125136521271, 368.439603843324, 361.06798867582285, 356.0051929265631, 715.3913701787536, 1546.7860595856032, 2259.453393329415, 870.2134135897343, 3292.191426825789, 2196.5107278525584, 2386.730680439336, 1125.720703220859, 8494.124562638926, 750.0836237560751, 806.3137524557502, 2395.267412379583], \"Category\": [\"Default\", \"Default\", \"Default\", \"Default\", \"Default\", \"Default\", \"Default\", \"Default\", \"Default\", \"Default\", \"Default\", \"Default\", \"Default\", \"Default\", \"Default\", \"Default\", \"Default\", \"Default\", \"Default\", \"Default\", \"Default\", \"Default\", \"Default\", \"Default\", \"Default\", \"Default\", \"Default\", \"Default\", \"Default\", \"Default\", \"Topic1\", \"Topic1\", \"Topic1\", \"Topic1\", \"Topic1\", \"Topic1\", \"Topic1\", \"Topic1\", \"Topic1\", \"Topic1\", \"Topic1\", \"Topic1\", \"Topic1\", \"Topic1\", \"Topic1\", \"Topic1\", \"Topic1\", \"Topic1\", \"Topic1\", \"Topic1\", \"Topic1\", \"Topic1\", \"Topic1\", \"Topic1\", \"Topic1\", \"Topic1\", \"Topic1\", \"Topic1\", \"Topic1\", \"Topic1\", \"Topic1\", \"Topic1\", \"Topic1\", \"Topic1\", \"Topic1\", \"Topic1\", \"Topic1\", \"Topic1\", \"Topic1\", \"Topic1\", \"Topic1\", \"Topic1\", \"Topic1\", \"Topic1\", \"Topic1\", \"Topic1\", \"Topic1\", \"Topic1\", \"Topic1\", \"Topic1\", \"Topic1\", \"Topic1\", \"Topic1\", \"Topic1\", \"Topic1\", \"Topic2\", \"Topic2\", \"Topic2\", \"Topic2\", \"Topic2\", \"Topic2\", \"Topic2\", \"Topic2\", \"Topic2\", \"Topic2\", \"Topic2\", \"Topic2\", \"Topic2\", \"Topic2\", \"Topic2\", \"Topic2\", \"Topic2\", \"Topic2\", \"Topic2\", \"Topic2\", \"Topic2\", \"Topic2\", \"Topic2\", \"Topic2\", \"Topic2\", \"Topic2\", \"Topic2\", \"Topic2\", \"Topic2\", \"Topic2\", \"Topic2\", \"Topic2\", \"Topic2\", \"Topic2\", \"Topic2\", \"Topic2\", \"Topic2\", \"Topic2\", \"Topic2\", \"Topic2\", \"Topic2\", \"Topic2\", \"Topic2\", \"Topic2\", \"Topic2\", \"Topic2\", \"Topic2\", \"Topic2\", \"Topic2\", \"Topic2\", \"Topic2\", \"Topic2\", \"Topic2\", \"Topic2\", \"Topic2\", \"Topic3\", \"Topic3\", \"Topic3\", \"Topic3\", \"Topic3\", \"Topic3\", \"Topic3\", \"Topic3\", \"Topic3\", \"Topic3\", \"Topic3\", \"Topic3\", \"Topic3\", \"Topic3\", \"Topic3\", \"Topic3\", \"Topic3\", \"Topic3\", \"Topic3\", \"Topic3\", \"Topic3\", \"Topic3\", \"Topic3\", \"Topic3\", \"Topic3\", \"Topic3\", \"Topic3\", \"Topic3\", \"Topic3\", \"Topic3\", \"Topic3\", \"Topic3\", \"Topic3\", \"Topic3\", \"Topic3\", \"Topic3\", \"Topic3\", \"Topic3\", \"Topic3\", \"Topic3\", \"Topic3\", \"Topic3\", \"Topic3\", \"Topic3\", \"Topic3\", \"Topic3\", \"Topic3\", \"Topic3\", \"Topic3\", \"Topic3\", \"Topic3\", \"Topic3\", \"Topic3\", \"Topic3\", \"Topic3\", \"Topic3\", \"Topic3\", \"Topic4\", \"Topic4\", \"Topic4\", \"Topic4\", \"Topic4\", \"Topic4\", \"Topic4\", \"Topic4\", \"Topic4\", \"Topic4\", \"Topic4\", \"Topic4\", \"Topic4\", \"Topic4\", \"Topic4\", \"Topic4\", \"Topic4\", \"Topic4\", \"Topic4\", \"Topic4\", \"Topic4\", \"Topic4\", \"Topic4\", \"Topic4\", \"Topic4\", \"Topic4\", \"Topic4\", \"Topic4\", \"Topic4\", \"Topic4\", \"Topic4\", \"Topic4\", \"Topic4\", \"Topic4\", \"Topic4\", \"Topic4\", \"Topic4\", \"Topic4\", \"Topic4\", \"Topic4\", \"Topic4\", \"Topic4\", \"Topic4\", \"Topic4\", \"Topic4\", \"Topic4\", \"Topic4\", \"Topic4\", \"Topic5\", \"Topic5\", \"Topic5\", \"Topic5\", \"Topic5\", \"Topic5\", \"Topic5\", \"Topic5\", \"Topic5\", \"Topic5\", \"Topic5\", \"Topic5\", \"Topic5\", \"Topic5\", \"Topic5\", \"Topic5\", \"Topic5\", \"Topic5\", \"Topic5\", \"Topic5\", \"Topic5\", \"Topic5\", \"Topic5\", \"Topic5\", \"Topic5\", \"Topic5\", \"Topic5\", \"Topic5\", \"Topic5\", \"Topic5\", \"Topic5\", \"Topic5\", \"Topic5\", \"Topic5\", \"Topic5\", \"Topic5\", \"Topic5\", \"Topic5\", \"Topic5\", \"Topic5\", \"Topic5\", \"Topic5\", \"Topic5\", \"Topic5\", \"Topic5\", \"Topic5\", \"Topic6\", \"Topic6\", \"Topic6\", \"Topic6\", \"Topic6\", \"Topic6\", \"Topic6\", \"Topic6\", \"Topic6\", \"Topic6\", \"Topic6\", \"Topic6\", \"Topic6\", \"Topic6\", \"Topic6\", \"Topic6\", \"Topic6\", \"Topic6\", \"Topic6\", \"Topic6\", \"Topic6\", \"Topic6\", \"Topic6\", \"Topic6\", \"Topic6\", \"Topic6\", \"Topic6\", \"Topic6\", \"Topic6\", \"Topic6\", \"Topic6\", \"Topic6\", \"Topic6\", \"Topic6\", \"Topic6\", \"Topic6\", \"Topic6\", \"Topic6\", \"Topic6\", \"Topic6\", \"Topic6\", \"Topic6\", \"Topic6\", \"Topic7\", \"Topic7\", \"Topic7\", \"Topic7\", \"Topic7\", \"Topic7\", \"Topic7\", \"Topic7\", \"Topic7\", \"Topic7\", \"Topic7\", \"Topic7\", \"Topic7\", \"Topic7\", \"Topic7\", \"Topic7\", \"Topic7\", \"Topic7\", \"Topic7\", \"Topic7\", \"Topic7\", \"Topic7\", \"Topic7\", \"Topic7\", \"Topic7\", \"Topic7\", \"Topic7\", \"Topic7\", \"Topic7\", \"Topic7\", \"Topic7\", \"Topic7\", \"Topic7\", \"Topic7\", \"Topic7\", \"Topic7\", \"Topic7\", \"Topic7\", \"Topic7\", \"Topic7\", \"Topic7\", \"Topic8\", \"Topic8\", \"Topic8\", \"Topic8\", \"Topic8\", \"Topic8\", \"Topic8\", \"Topic8\", \"Topic8\", \"Topic8\", \"Topic8\", \"Topic8\", \"Topic8\", \"Topic8\", \"Topic8\", \"Topic8\", \"Topic8\", \"Topic8\", \"Topic8\", \"Topic8\", \"Topic8\", \"Topic8\", \"Topic8\", \"Topic8\", \"Topic8\", \"Topic8\", \"Topic8\", \"Topic8\", \"Topic8\", \"Topic8\", \"Topic8\", \"Topic8\", \"Topic8\", \"Topic8\", \"Topic8\", \"Topic8\", \"Topic8\", \"Topic8\", \"Topic8\", \"Topic8\", \"Topic8\", \"Topic8\", \"Topic8\", \"Topic8\", \"Topic8\", \"Topic9\", \"Topic9\", \"Topic9\", \"Topic9\", \"Topic9\", \"Topic9\", \"Topic9\", \"Topic9\", \"Topic9\", \"Topic9\", \"Topic9\", \"Topic9\", \"Topic9\", \"Topic9\", \"Topic9\", \"Topic9\", \"Topic9\", \"Topic9\", \"Topic9\", \"Topic9\", \"Topic9\", \"Topic9\", \"Topic9\", \"Topic9\", \"Topic9\", \"Topic9\", \"Topic9\", \"Topic9\", \"Topic9\", \"Topic9\", \"Topic9\", \"Topic9\", \"Topic9\", \"Topic9\", \"Topic9\", \"Topic9\", \"Topic9\", \"Topic9\", \"Topic9\", \"Topic10\", \"Topic10\", \"Topic10\", \"Topic10\", \"Topic10\", \"Topic10\", \"Topic10\", \"Topic10\", \"Topic10\", \"Topic10\", \"Topic10\", \"Topic10\", \"Topic10\", \"Topic10\", \"Topic10\", \"Topic10\", \"Topic10\", \"Topic10\", \"Topic10\", \"Topic10\", \"Topic10\", \"Topic10\", \"Topic10\", \"Topic10\", \"Topic10\", \"Topic10\", \"Topic10\", \"Topic10\", \"Topic10\", \"Topic10\", \"Topic10\", \"Topic10\", \"Topic10\", \"Topic10\", \"Topic10\", \"Topic10\", \"Topic10\", \"Topic10\", \"Topic10\", \"Topic10\", \"Topic10\", \"Topic10\"], \"logprob\": [30.0, 29.0, 28.0, 27.0, 26.0, 25.0, 24.0, 23.0, 22.0, 21.0, 20.0, 19.0, 18.0, 17.0, 16.0, 15.0, 14.0, 13.0, 12.0, 11.0, 10.0, 9.0, 8.0, 7.0, 6.0, 5.0, 4.0, 3.0, 2.0, 1.0, -4.5923, -4.6026, -4.6112, -4.6789, -4.9082, -4.9142, -5.1276, -5.1376, -5.3082, -5.6195, -5.6484, -5.6518, -5.6565, -5.6731, -5.6857, -5.7119, -5.7207, -5.7309, -5.7414, -5.7427, -5.7889, -5.898, -5.9732, -5.9837, -5.9983, -6.0044, -6.0119, -6.0231, -6.0376, -6.045, -5.8482, -3.6373, -4.1188, -5.8137, -4.4224, -5.3814, -4.1369, -5.0628, -4.4565, -4.4275, -4.8027, -4.7695, -4.1388, -4.9129, -5.0472, -5.1209, -4.6395, -4.5905, -4.7413, -4.7174, -4.5594, -4.8758, -5.3931, -5.1258, -5.2829, -3.7228, -4.5332, -4.5675, -4.667, -4.7957, -4.9261, -5.2995, -5.3406, -5.381, -5.4443, -5.5564, -5.5999, -5.6588, -5.675, -5.8093, -5.9506, -5.9892, -5.9922, -6.0288, -6.0538, -6.1102, -6.1195, -6.1236, -6.1583, -6.2067, -6.2294, -6.2315, -6.2449, -6.2944, -6.316, -4.0107, -5.784, -5.3822, -4.7483, -5.6402, -4.5617, -5.1564, -4.4851, -5.1857, -4.9418, -5.08, -5.5387, -4.8063, -5.4477, -5.2543, -4.7257, -5.0614, -5.1111, -5.1318, -5.0543, -5.2994, -5.1113, -5.2189, -5.3558, -5.4063, -3.8145, -4.0103, -4.39, -4.8656, -4.9089, -5.2026, -5.3087, -5.3242, -5.4186, -5.5162, -5.5219, -5.6021, -5.6433, -5.655, -5.6574, -5.6979, -5.7416, -5.7801, -5.781, -5.8483, -5.8636, -5.867, -5.8687, -5.8718, -5.8872, -5.9235, -5.9725, -5.9814, -5.9868, -6.0238, -4.2779, -4.505, -4.6066, -4.5825, -4.8437, -5.6018, -5.1824, -5.4758, -4.8801, -4.9851, -5.3444, -4.3969, -5.1997, -5.3061, -5.0243, -5.1093, -5.022, -4.9993, -4.7748, -4.8224, -4.9944, -5.1054, -5.095, -5.1263, -5.292, -5.2793, -5.2856, -4.5883, -4.7105, -4.8649, -4.8785, -4.9797, -5.1056, -5.1906, -5.2879, -5.346, -5.3725, -5.386, -5.4367, -5.4506, -5.4595, -5.4904, -5.5043, -5.5686, -5.6056, -5.6073, -5.6194, -5.7088, -5.7132, -5.7192, -5.7274, -5.7461, -5.7462, -5.7949, -5.8038, -5.8735, -5.8948, -5.5026, -5.0761, -4.9416, -4.8707, -3.7267, -5.3362, -4.7216, -5.0034, -5.2538, -5.0142, -5.4433, -4.9661, -5.3658, -5.0207, -5.2715, -5.2914, -5.3558, -5.4517, -4.1311, -4.2185, -4.3049, -4.7035, -4.8212, -4.8584, -4.9723, -5.0031, -5.0177, -5.0304, -5.0411, -5.1772, -5.2128, -5.2588, -5.3137, -5.3489, -5.3629, -5.3732, -5.4424, -5.4724, -5.5267, -5.5525, -5.5581, -5.5723, -5.6409, -5.6689, -5.6794, -5.7209, -5.7571, -5.761, -4.3891, -5.5835, -4.9946, -4.9925, -3.8515, -4.6899, -5.0157, -4.3801, -5.3306, -4.9963, -4.9431, -5.1032, -5.3507, -5.268, -5.3067, -5.3395, -3.4788, -3.633, -4.0926, -4.0955, -4.4109, -4.4414, -4.8037, -4.939, -5.0285, -5.065, -5.1363, -5.1603, -5.1812, -5.2045, -5.5734, -5.6131, -5.6393, -5.737, -5.796, -5.7997, -5.8092, -5.8094, -5.8254, -5.8378, -5.8449, -5.8762, -5.9395, -5.9629, -6.0245, -6.0267, -5.2819, -5.8776, -4.5297, -4.849, -4.5661, -5.0083, -5.6186, -5.5352, -5.7288, -5.7236, -5.593, -5.6149, -5.7065, -4.3726, -4.3935, -4.7067, -4.7114, -4.8041, -5.0671, -5.0837, -5.1792, -5.1836, -5.1916, -5.2198, -5.2323, -5.2508, -5.2519, -5.2651, -5.3279, -5.3427, -5.3973, -5.4486, -5.4787, -5.5521, -5.5632, -5.6099, -5.6471, -5.6527, -5.6595, -5.6676, -5.6781, -5.708, -5.736, -5.1009, -4.4002, -5.0012, -4.984, -4.8987, -4.6655, -5.4198, -5.5038, -5.2089, -5.2658, -5.4159, -3.7738, -4.5806, -4.766, -4.9017, -4.9768, -5.0097, -5.1159, -5.1475, -5.1849, -5.2571, -5.2778, -5.3557, -5.4528, -5.4962, -5.499, -5.5459, -5.5791, -5.6441, -5.6622, -5.6797, -5.6805, -5.7139, -5.732, -5.754, -5.7644, -5.8051, -5.8075, -5.822, -5.8328, -5.8353, -3.9804, -3.6498, -5.5088, -5.1039, -5.224, -5.4007, -5.1991, -5.3143, -5.3054, -4.9144, -5.3111, -5.1981, -4.9763, -5.4538, -5.4964, -4.0512, -4.1465, -4.2973, -4.6691, -4.6705, -4.756, -4.8521, -4.8716, -5.1597, -5.1638, -5.1881, -5.1971, -5.1985, -5.2054, -5.2278, -5.2503, -5.2649, -5.3063, -5.4032, -5.4705, -5.4724, -5.4912, -5.4991, -5.5151, -5.5559, -5.5736, -5.6427, -5.6473, -5.6728, -5.6731, -4.5771, -5.1079, -5.411, -4.6172, -4.7858, -5.1271, -5.4413, -5.3557, -5.4768, -4.0574, -4.5039, -4.5227, -4.9642, -4.9816, -4.9827, -4.9864, -5.0191, -5.0323, -5.0455, -5.1739, -5.2296, -5.2691, -5.3412, -5.3605, -5.3662, -5.3946, -5.406, -5.4246, -5.4425, -5.4776, -5.4941, -5.5828, -5.5959, -5.5988, -5.6645, -5.6667, -5.672, -5.6923, -5.7065, -5.1571, -4.5967, -4.3536, -5.1579, -4.4205, -4.768, -4.7442, -5.118, -4.4151, -5.3202, -5.3059, -5.3457], \"loglift\": [30.0, 29.0, 28.0, 27.0, 26.0, 25.0, 24.0, 23.0, 22.0, 21.0, 20.0, 19.0, 18.0, 17.0, 16.0, 15.0, 14.0, 13.0, 12.0, 11.0, 10.0, 9.0, 8.0, 7.0, 6.0, 5.0, 4.0, 3.0, 2.0, 1.0, 1.917, 1.917, 1.917, 1.917, 1.9169, 1.9169, 1.9167, 1.9167, 1.9166, 1.9162, 1.9162, 1.9162, 1.9162, 1.9161, 1.9161, 1.9161, 1.9161, 1.9161, 1.9161, 1.916, 1.916, 1.9158, 1.9157, 1.9157, 1.9156, 1.9156, 1.9156, 1.9156, 1.9156, 1.9155, 1.9149, 1.6004, 1.6549, 1.8798, 1.554, 1.775, 1.4312, 1.6568, 1.4663, 1.4312, 1.538, 1.5096, 1.0139, 1.4422, 1.4237, 1.4585, 1.0129, 0.9366, 0.9686, 0.9001, 0.642, 1.0119, 1.5558, 0.9341, 0.5003, 1.9651, 1.9648, 1.9648, 1.9648, 1.9647, 1.9646, 1.9643, 1.9643, 1.9642, 1.9642, 1.964, 1.964, 1.9639, 1.9639, 1.9637, 1.9634, 1.9633, 1.9633, 1.9633, 1.9632, 1.9631, 1.9631, 1.9631, 1.963, 1.9629, 1.9628, 1.9628, 1.9628, 1.9627, 1.9626, 1.8149, 1.8967, 1.8074, 1.665, 1.8475, 1.5968, 1.7311, 1.4801, 1.6752, 1.5277, 1.5811, 1.7512, 1.4129, 1.3707, 1.1488, 0.4614, 0.8858, 0.9487, 0.9451, 0.5981, 0.9925, 0.4158, 0.543, 0.9063, 0.3036, 2.1438, 2.1437, 2.1436, 2.1433, 2.1433, 2.143, 2.1429, 2.1429, 2.1428, 2.1426, 2.1426, 2.1425, 2.1424, 2.1424, 2.1424, 2.1423, 2.1423, 2.1422, 2.1422, 2.142, 2.142, 2.142, 2.142, 2.142, 2.142, 2.1419, 2.1418, 2.1418, 2.1417, 2.1417, 1.9981, 1.7425, 1.7565, 1.7238, 1.7674, 2.0064, 1.7728, 1.9014, 1.4836, 1.5206, 1.7683, 0.8408, 1.592, 1.5975, 1.1662, 1.1528, 0.9543, 0.8818, 0.3778, 0.3791, 0.5737, 0.6683, 0.5225, 0.4008, 1.1495, 0.4826, 0.602, 2.2723, 2.2722, 2.2721, 2.2721, 2.272, 2.2719, 2.2718, 2.2717, 2.2716, 2.2716, 2.2715, 2.2715, 2.2714, 2.2714, 2.2714, 2.2714, 2.2712, 2.2712, 2.2712, 2.2712, 2.271, 2.271, 2.271, 2.271, 2.2709, 2.2709, 2.2708, 2.2708, 2.2706, 2.2706, 2.2617, 2.1623, 2.0921, 2.0082, 1.4604, 2.104, 1.7632, 1.8395, 1.7992, 1.5408, 1.9206, 0.8926, 1.6003, 0.1319, 0.2555, 0.3609, 0.6094, 0.9184, 2.2941, 2.2941, 2.294, 2.2938, 2.2937, 2.2937, 2.2935, 2.2935, 2.2935, 2.2935, 2.2935, 2.2933, 2.2933, 2.2932, 2.2931, 2.2931, 2.2931, 2.2931, 2.293, 2.2929, 2.2928, 2.2928, 2.2928, 2.2927, 2.2926, 2.2926, 2.2925, 2.2925, 2.2924, 2.2924, 2.0593, 2.2455, 2.0781, 2.041, 1.35, 1.7816, 1.9266, 0.807, 1.9704, 1.0806, 0.84, 0.5143, 1.6975, 1.102, 0.6585, 1.2857, 2.3377, 2.3377, 2.3375, 2.3375, 2.3373, 2.3373, 2.3371, 2.3369, 2.3368, 2.3368, 2.3367, 2.3367, 2.3367, 2.3366, 2.336, 2.336, 2.3359, 2.3357, 2.3356, 2.3356, 2.3355, 2.3355, 2.3355, 2.3355, 2.3355, 2.3354, 2.3352, 2.3351, 2.335, 2.335, 1.9109, 2.2479, 1.2535, 1.4428, 1.1958, 1.2745, 1.8928, 1.5235, 2.0393, 1.9058, 0.6262, 0.5436, 0.2407, 2.529, 2.529, 2.5287, 2.5287, 2.5286, 2.5283, 2.5283, 2.5282, 2.5282, 2.5281, 2.5281, 2.5281, 2.5281, 2.5281, 2.528, 2.5279, 2.5279, 2.5278, 2.5277, 2.5276, 2.5275, 2.5275, 2.5273, 2.5273, 2.5272, 2.5272, 2.5272, 2.5272, 2.5271, 2.527, 2.4956, 2.1945, 2.3076, 2.1899, 2.0506, 1.7046, 2.0658, 2.0487, 0.6722, 0.5597, 0.346, 2.6011, 2.6006, 2.6005, 2.6003, 2.6002, 2.6002, 2.6, 2.6, 2.5999, 2.5998, 2.5997, 2.5996, 2.5994, 2.5993, 2.5993, 2.5992, 2.5991, 2.599, 2.5989, 2.5989, 2.5989, 2.5988, 2.5987, 2.5987, 2.5986, 2.5985, 2.5985, 2.5985, 2.5984, 2.5984, 2.4626, 2.3629, 2.5246, 2.2374, 2.2171, 2.3023, 2.1041, 2.1602, 2.0594, 1.5259, 1.9728, 1.5027, 0.1763, 1.1001, 1.4082, 2.6263, 2.6262, 2.6261, 2.6258, 2.6258, 2.6257, 2.6256, 2.6256, 2.6252, 2.6252, 2.6252, 2.6251, 2.6251, 2.6251, 2.6251, 2.625, 2.625, 2.6249, 2.6248, 2.6246, 2.6246, 2.6246, 2.6245, 2.6245, 2.6244, 2.6244, 2.6242, 2.6242, 2.6241, 2.6241, 2.4773, 2.1043, 2.37, 1.4596, 0.4013, 1.3414, 2.1616, 1.4363, 0.1756, 2.6695, 2.6692, 2.6692, 2.6687, 2.6687, 2.6687, 2.6687, 2.6686, 2.6686, 2.6686, 2.6684, 2.6683, 2.6682, 2.6681, 2.668, 2.668, 2.668, 2.6679, 2.6679, 2.6678, 2.6678, 2.6677, 2.6675, 2.6675, 2.6675, 2.6673, 2.6673, 2.6673, 2.6672, 2.6672, 2.5186, 2.308, 2.1721, 2.322, 1.7288, 1.7859, 1.7267, 2.1044, 0.7864, 2.3081, 2.2502, 1.1216]}, \"token.table\": {\"Topic\": [5, 7, 5, 5, 9, 6, 8, 4, 9, 9, 2, 9, 9, 9, 9, 6, 9, 10, 9, 6, 7, 3, 10, 3, 1, 2, 3, 5, 7, 10, 1, 3, 8, 1, 2, 3, 4, 5, 6, 8, 1, 7, 10, 4, 2, 9, 10, 2, 2, 3, 4, 1, 2, 3, 4, 5, 7, 10, 1, 2, 3, 4, 5, 6, 7, 8, 10, 2, 5, 2, 5, 8, 2, 5, 10, 8, 2, 4, 1, 8, 1, 2, 3, 7, 8, 10, 5, 7, 1, 3, 4, 6, 7, 7, 2, 8, 10, 1, 6, 7, 8, 1, 2, 3, 1, 5, 6, 6, 4, 2, 1, 6, 1, 2, 4, 5, 6, 4, 3, 2, 10, 7, 4, 10, 5, 8, 10, 2, 4, 6, 4, 10, 5, 4, 5, 9, 5, 5, 8, 4, 10, 2, 7, 10, 1, 4, 8, 10, 1, 8, 2, 9, 10, 8, 2, 3, 7, 1, 2, 4, 6, 7, 7, 2, 4, 4, 6, 1, 2, 8, 9, 6, 7, 6, 2, 3, 7, 3, 2, 3, 6, 3, 5, 1, 9, 1, 5, 6, 2, 7, 4, 2, 10, 10, 2, 5, 5, 1, 7, 6, 7, 2, 1, 1, 5, 6, 10, 2, 4, 10, 1, 2, 3, 4, 5, 6, 7, 1, 2, 5, 7, 1, 7, 4, 8, 4, 8, 9, 5, 2, 1, 2, 5, 6, 8, 1, 10, 1, 2, 4, 3, 6, 6, 2, 3, 1, 2, 3, 4, 8, 1, 2, 4, 8, 2, 4, 5, 2, 5, 6, 7, 2, 4, 5, 9, 9, 2, 10, 6, 2, 6, 1, 2, 4, 6, 2, 4, 6, 10, 1, 4, 9, 4, 7, 6, 2, 8, 7, 7, 1, 8, 4, 7, 2, 7, 3, 6, 8, 4, 1, 8, 2, 5, 3, 2, 9, 3, 7, 1, 2, 3, 4, 5, 6, 9, 4, 8, 10, 10, 1, 2, 4, 5, 10, 5, 10, 8, 6, 6, 6, 1, 1, 3, 2, 9, 2, 6, 9, 4, 5, 7, 2, 7, 2, 2, 6, 7, 9, 9, 5, 9, 6, 3, 2, 5, 10, 3, 5, 3, 5, 10, 1, 10, 7, 1, 2, 3, 4, 6, 9, 4, 5, 7, 10, 5, 2, 5, 7, 1, 3, 6, 6, 7, 3, 3, 9, 4, 8, 6, 3, 6, 2, 4, 5, 9, 8, 3, 1, 2, 3, 4, 5, 6, 8, 7, 2, 4, 5, 6, 10, 1, 3, 7, 1, 3, 5, 1, 3, 4, 8, 6, 10, 6, 2, 3, 6, 3, 9, 1, 2, 5, 1, 2, 3, 5, 1, 2, 4, 7, 8, 8, 9, 3, 4, 2, 3, 4, 1, 5, 1, 3, 4, 1, 3, 4, 5, 10, 8, 9, 7, 7, 6, 1, 3, 4, 1, 1, 2, 3, 4, 5, 6, 8, 3, 8, 8, 1, 3, 5, 8, 5, 9, 10, 10, 5, 8, 2, 4, 3, 10, 4, 8, 1, 9, 3, 4, 1, 7, 10, 2, 4, 7, 4, 2, 8, 3, 8, 9, 2, 6, 3, 4, 4, 6, 7, 10, 4, 2, 4, 5, 6, 2, 1, 3, 9, 4, 6, 9, 5, 9, 9, 2, 7, 5, 1, 8, 3, 9, 7, 5, 3, 2, 3, 8, 8, 2, 1, 6, 3, 2, 4, 5, 6, 9, 5, 10, 5, 4, 6, 4, 1, 2, 3, 5, 6, 7, 9, 3, 9, 1, 3, 5, 8, 4, 6, 10, 2, 3, 4, 6, 7, 10, 5, 1, 7, 6, 2, 1, 2, 3, 4, 5, 7, 8, 6, 6, 3, 2, 3, 1, 2, 3, 8, 5, 1, 2, 4, 5, 10, 1, 5, 2, 8, 3, 3, 8, 3, 8, 10, 5, 1, 3, 10, 1, 9, 8, 7, 9, 9, 8, 1, 10, 4, 9, 5, 8, 5, 6, 7, 8, 1, 3, 2, 1, 3, 10, 7, 1, 3, 4, 1, 2, 6, 7, 8, 8, 1, 7, 2, 5, 1, 3, 5, 10, 9, 1, 2, 3, 5, 6, 1, 2, 3, 4, 5, 6, 7, 8, 7, 9, 4, 7, 8, 5, 10, 1, 5, 6, 8, 7, 2, 5, 9, 5], \"Freq\": [0.9982541218580236, 0.9990898076119695, 0.9988597628783268, 0.9983486521824357, 0.9985307546216268, 0.9982971513017643, 0.9957463426575323, 0.9989501414471488, 0.9993151186096932, 0.9983088351377065, 0.13817241219105275, 0.8613247651257473, 0.998516076768895, 0.9967396063748089, 0.999045314250919, 0.3703723310302448, 0.6276836346933623, 0.9988052677308766, 0.9975963177306135, 0.9975656865288902, 0.9980969547211198, 0.2930315667602669, 0.7055740470227604, 0.998763583868519, 0.3064376011657113, 0.08433296380854724, 0.25299889142564175, 0.09811013116340893, 0.04550640126302797, 0.21250236920074528, 0.7704695387015819, 0.22888425626699713, 0.9985213099051706, 0.6149383209904196, 0.037202069695276764, 0.20792389637908107, 0.028198829084091062, 0.025141124725575163, 0.07746184374906942, 0.0090032406111857, 0.9991220334537202, 0.999140462495386, 0.998578263118098, 0.9978832219381963, 0.3904077064566892, 0.5926459327743435, 0.01582733945094686, 0.9984950404299923, 0.27449085272535845, 0.5786913036280499, 0.1459645475668965, 0.24554109970874796, 0.07782049990769212, 0.2829413996643851, 0.10755489987242224, 0.07433599991182531, 0.15610559981483316, 0.055519699934144524, 0.4050939372024889, 0.10292727217046355, 0.1709848475598659, 0.11750302966737014, 0.0016818181727199925, 0.022424242302933235, 0.044960605817381136, 0.08846363588507161, 0.04585757550949846, 0.19349845600949492, 0.8053512813359611, 0.27581290184827006, 0.7236484846402347, 0.9981777058159454, 0.9974411473272514, 0.13978362637364938, 0.8596693021979438, 0.9986379101146178, 0.9972203622364993, 0.9983750618538251, 0.9990083773149037, 0.9968886874263266, 0.24289082837053705, 0.24817990838530585, 0.36982874872498855, 0.04556745858877747, 0.09316917872169679, 0.9995256012438908, 0.2868986678893641, 0.7117456628169769, 0.27770497944211847, 0.18988077969354852, 0.1211487972816242, 0.34539556818113487, 0.0656078013932005, 0.9977693647408125, 0.2119787265397469, 0.7877659425033344, 0.9981543981539983, 0.9982984995663469, 0.27583331928879096, 0.19081620032991703, 0.5337185801307085, 0.33443821001698837, 0.008529773687999703, 0.6567925739759771, 0.997604789788701, 0.9986333092668546, 0.9966674420903848, 0.9996239907647931, 0.9995701102050145, 0.9990264024843579, 0.999449865995509, 0.998618822637466, 0.9988700191963474, 0.2547564630207863, 0.4808015536438811, 0.13079625203392783, 0.13307493238295098, 0.9981394289530023, 0.9982635478096602, 0.9978503372984382, 0.997027935229587, 0.9983479997930621, 0.9977564661222942, 0.9984582386768001, 0.2571163499249873, 0.7411845617949354, 0.9991861787044085, 0.6455919191038059, 0.1849330059908504, 0.16903378828122978, 0.9978007714777773, 0.9960927005992108, 0.9992019725180747, 0.05939556183133198, 0.7901657846388923, 0.149922590553569, 0.9981137696066853, 0.9990139334182071, 0.9990999161935363, 0.9973899941843257, 0.9986862880907693, 0.860286126058824, 0.13953555301337248, 0.9971764655501234, 0.31003718368623073, 0.05372156780466259, 0.22262581912271193, 0.41292764405787263, 0.9986195634719627, 0.9977364420729817, 0.8884048370418453, 0.11003710497910729, 0.9986672581484607, 0.9980504475753902, 0.9996961842933094, 0.38060345870118567, 0.617862757631795, 0.998192433596039, 0.7404359698401595, 0.15188430150567375, 0.10718918153134788, 0.999098061702007, 0.9983491573671204, 0.9981122145348336, 0.9981960766389534, 0.9980602169929789, 0.9992434452821704, 0.3893450139949836, 0.19582783344851548, 0.11033367607276241, 0.3038508566192305, 0.9990927392419174, 0.9979355665476569, 0.9974423800559666, 0.9994090687445086, 0.9995612345578414, 0.9987495299685937, 0.9970494367385085, 0.23360392045773695, 0.678617508060801, 0.08764849189477086, 0.7840725219315212, 0.21468652386220222, 0.9981558696829338, 0.9971873387917116, 0.999403356182402, 0.3466903413813543, 0.6528472348897641, 0.1985387316703396, 0.8009342980066871, 0.9993560495123748, 0.9995694392788622, 0.9990701906910405, 0.9961713118315756, 0.9969639020891361, 0.9973425197441897, 0.9981184128360782, 0.9986687227905702, 0.9984240540008997, 0.03228052872360506, 0.9658334194102633, 0.9993428114456454, 0.9996627676244452, 0.9981782276972844, 0.9983261797064257, 0.3026329235976224, 0.6959224058059863, 0.6811180695844994, 0.13328426510470487, 0.18548304573506455, 0.3615831552380358, 0.14259868757906743, 0.19756789380479053, 0.01713325908334227, 0.16865551910165047, 0.04836576262068495, 0.0640712501137487, 0.3327192872815611, 0.551566732926652, 0.11505800665351666, 0.9990503663404502, 0.9994767264208874, 0.998995864419569, 0.9978776362262712, 0.9992038419189597, 0.21476361755927378, 0.6076943617932815, 0.17624099557554757, 0.9972703930602316, 0.9986943771491774, 0.24242716336595396, 0.18576955524654334, 0.23358099406849953, 0.3380500410098663, 0.9983336187574273, 0.43083510733376484, 0.5676363579098469, 0.9994843259738483, 0.39892447309945717, 0.6007233279687246, 0.9985033270880852, 0.9987194573522332, 0.9990683013218171, 0.9990726734085957, 0.9998236569725285, 0.2303950560845763, 0.1942307527485493, 0.23323943949302786, 0.0008126809738433026, 0.34091966852726546, 0.2512438144474789, 0.7481619991798079, 0.9970596773216812, 0.9967775341798462, 0.6155348016591602, 0.18951194632363308, 0.1948182808206948, 0.377954766482342, 0.10368360600442375, 0.40842933986877733, 0.10928812524790611, 0.36050845077363003, 0.03107831472186466, 0.29693917066072506, 0.31134820748631686, 0.9967121536484614, 0.9997760203380853, 0.9990709061318523, 0.9995471339191673, 0.9962139968763398, 0.9984484080121859, 0.9996644836825856, 0.6919188660008277, 0.14163337000105558, 0.1661586288756972, 0.3764460009982265, 0.6224107187819282, 0.9966901762006874, 0.9987932069835253, 0.9990439007628569, 0.8448982293981654, 0.15462189819051395, 0.8954483889105505, 0.10380702089184808, 0.9968443263395648, 0.9969978368745884, 0.9986450135048869, 0.99844925828826, 0.9991133498232557, 0.9981607474490249, 0.9983582889782295, 0.9987703494416176, 0.9974962770481828, 0.7911928476749742, 0.20844277432722214, 0.35817016621573966, 0.6404367210480113, 0.9963418661466423, 0.9980715746711236, 0.867320127127861, 0.13221850451901238, 0.8536344040774181, 0.14528118256705302, 0.998444116645616, 0.9983336888546932, 0.9980114699252051, 0.36983932775040484, 0.6287268571756882, 0.40472617718506626, 0.2548481270950714, 0.09757781806105707, 0.1478451788803895, 0.0020328712096053555, 0.007022645996818501, 0.08611981669782688, 0.9971134568719168, 0.9983855553317555, 0.9981804818865326, 0.9973169313659673, 0.28943817789129217, 0.20006296856619007, 0.510126194763275, 0.9995778517865206, 0.9988818787702047, 0.9985157694744693, 0.997703797750419, 0.9989181368319373, 0.9998238897979919, 0.9981562914047392, 0.9992174989007605, 0.9986383070815519, 0.42384320435561357, 0.57571072853208, 0.9974275108403712, 0.9985879829245174, 0.9341296002947962, 0.06461648362941447, 0.9977543779876178, 0.25795776601699527, 0.3034128789715319, 0.43826304740332384, 0.9973419266670221, 0.9964940285585737, 0.9984489264414038, 0.20059785447676962, 0.030350502804995873, 0.7151337223427153, 0.05358760651507084, 0.9972153375331102, 0.9515931608450564, 0.0456243296295575, 0.9977296906996668, 0.9989510467446101, 0.3074556081637204, 0.6921107685956238, 0.9981993183309261, 0.999717007900869, 0.9993286288196487, 0.9974786284606693, 0.7758715666132492, 0.22356867891035806, 0.9981835609981005, 0.9981853911370465, 0.9987668711265978, 0.9982197197985266, 0.3468193400138362, 0.37096068623048556, 0.16728932871255628, 0.10676595369053388, 0.007820436098351207, 0.9984879699091881, 0.21553885618431884, 0.1765913831982407, 0.6076690955668784, 0.9984888901544039, 0.22050661295622756, 0.5986377249077813, 0.18026206002125067, 0.6650738138203184, 0.23656291661627551, 0.09822202970617287, 0.6485408513797187, 0.3496249034186961, 0.9976283299206895, 0.9991850691171217, 0.998012288073335, 0.834903128163283, 0.16477383322341443, 0.9997460390383355, 0.9987357116297645, 0.9979502167723924, 0.22224467805014822, 0.4436769734651262, 0.22595842723949797, 0.10804689047764386, 0.9968090725378193, 0.9979347135598002, 0.38719362918694783, 0.1898775633525477, 0.13761229591426913, 0.12332254114650006, 0.0604867701813786, 0.0524610175035905, 0.04913326639328812, 0.998940066537179, 0.9982942468244963, 0.703038861143948, 0.167828781990695, 0.1279182789563224, 0.997068293608825, 0.3133290429391575, 0.6859495816960324, 0.9975248774744986, 0.3444530807639919, 0.5362015211892872, 0.11930050026460677, 0.3422054237113342, 0.16134801179609903, 0.16292985504900195, 0.3332416452782176, 0.913873481708292, 0.08327863862089951, 0.9987383963991497, 0.9981834405027273, 0.8714434585123834, 0.12803816931666204, 0.9986323343696235, 0.9978188015238355, 0.9632265017955038, 0.03556966402494475, 0.997142802889406, 0.6369710151232016, 0.10075282976853685, 0.09687772093128542, 0.16517651418784166, 0.37415978754829116, 0.3619377900337219, 0.13944188073440397, 0.07972075651548595, 0.04472139999649211, 0.995675051250133, 0.9987271353615973, 0.9995329923997096, 0.998368356207505, 0.3128325179619259, 0.6869579211224989, 0.9981100891481152, 0.9987720960307435, 0.9975705237390826, 0.7282726014030718, 0.2716068619044309, 0.9971872717359185, 0.2792518502063354, 0.1711771459527874, 0.008594175828441183, 0.388857024127962, 0.1519874108838023, 0.8703223819570413, 0.1291630126780815, 0.9969680488819308, 0.9980822353422071, 0.997839222784062, 0.7690627692134743, 0.2286741169446467, 0.002086442672852616, 0.9989480841472478, 0.08189845384551053, 0.33975449489243614, 0.14468726846040195, 0.12805940055843465, 0.10274533300618595, 0.1228476807682658, 0.07991303678258907, 0.9968443311048399, 0.9961029775316247, 0.9980420532891877, 0.6217070773457654, 0.2052454336975816, 0.06754440636229504, 0.10486175794367351, 0.9992456565609734, 0.9968927107198141, 0.9985408399045183, 0.997851418174141, 0.3041435021798151, 0.6943276003710253, 0.9986710534462457, 0.9978797114765412, 0.8640593720362462, 0.13550492147256374, 0.07195863670219481, 0.9254680220310054, 0.9978735362052712, 0.9966827311608715, 0.9987724756901258, 0.9969616754592872, 0.6967154644184554, 0.11420457176209405, 0.18853890841197776, 0.3513062880419562, 0.6485187012816043, 0.9972491265790965, 0.9981062075363107, 0.318370507910058, 0.6809591419187351, 0.9971657596438922, 0.998060716192223, 0.9974123044118011, 0.2560135109983043, 0.741979277384307, 0.9985575997113324, 0.9991557282271802, 0.9966986928638584, 0.9981851371490161, 0.9981623671836579, 0.9989300484878929, 0.9990980341948726, 0.5756088734912478, 0.15538507790340986, 0.08827957256147603, 0.18046820368655986, 0.9985357734545159, 0.6841560974348466, 0.3155945868812357, 0.9993288614658414, 0.7674443913384335, 0.23187154024018353, 0.999123675294512, 0.22518621363993346, 0.7733981682254267, 0.9987266711469834, 0.379919772847994, 0.6192286689123888, 0.9990869700790906, 0.35545649343011315, 0.6434791183316839, 0.9980921202676957, 0.9980052259093399, 0.999059105490091, 0.99886283858088, 0.9980861109122151, 0.9973808899678615, 0.9967895785197337, 0.9985071939184471, 0.9979293980551014, 0.9986705367970683, 0.9994248328931061, 0.9974609818285123, 0.9977093116927099, 0.2900759591856836, 0.2817164214569895, 0.12288520461180255, 0.028840405163994477, 0.2767006988197731, 0.9989228782769074, 0.9966287088094842, 0.9988319789860791, 0.9989600396590552, 0.9989934971097592, 0.9981090818601598, 0.12417867404120873, 0.1173341801964177, 0.12124531953629829, 0.36471374344386503, 0.0004888924174850737, 0.13737876931330573, 0.13444541480839528, 0.9985195738243794, 0.9978618904300989, 0.9991486504050182, 0.28884971709893525, 0.12803622211832236, 0.5817965933056568, 0.9991897449939303, 0.9996022032744948, 0.9961866470487182, 0.24124416768384727, 0.1899024602024131, 0.1371174115468021, 0.31918459108939795, 0.1125806115857954, 0.9971521674060595, 0.9984224888546531, 0.9979936490712451, 0.9984957175949767, 0.9970357264679004, 0.9973430312513039, 0.4042768968720807, 0.10171223258493643, 0.2139464202648663, 0.08838442279794477, 0.05939059098062955, 0.05564945139129856, 0.07645954035695222, 0.9964573230003456, 0.9976431885950744, 0.9987569530967674, 0.9994450407425287, 0.9996924146328002, 0.3455293757787, 0.05457708005219118, 0.5167884890459207, 0.08280660421711765, 0.9989381846163633, 0.6148580962659325, 0.130603400573665, 0.2514399381479081, 0.0024984998370614175, 0.00045427269764753043, 0.9976280291592011, 0.0015254251210385338, 0.8068105068091659, 0.1919619815965271, 0.9968946853979147, 0.9986382473568758, 0.9963338674269256, 0.9972776805739264, 0.30320935276960603, 0.6962824582790313, 0.9987646677783306, 0.30941942938616396, 0.6895632997748797, 0.9967590321380536, 0.9980159519252211, 0.9995221790237769, 0.9981632651964085, 0.9979516467919506, 0.9984187506043511, 0.9963856552772834, 0.9992525760354474, 0.6104584869759179, 0.38923537021319676, 0.9985564432105705, 0.9984231515727162, 0.9987636026125682, 0.9964813205174654, 0.28885069783544126, 0.44270328884961885, 0.11312690515748353, 0.15460677038189416, 0.6318175816336958, 0.3675095615267691, 0.999391381342394, 0.33807268645769906, 0.2715516457261303, 0.3900137730563213, 0.9983160400074569, 0.6952597614911377, 0.3043198735523502, 0.0002555162666266584, 0.2932477159181864, 0.44202492826653195, 0.03993493594613486, 0.19223581911325702, 0.032104556348853515, 0.9975814207237383, 0.9991800455117085, 0.9969278847148622, 0.9993229506803564, 0.9994637561204603, 0.33041408359044355, 0.669205806217156, 0.34229851488877666, 0.6573123655472886, 0.9975300022071306, 0.27286911039229494, 0.18961554190833488, 0.3760655488933253, 0.06805900085190651, 0.09306672674632797, 0.3750052829318966, 0.21228559929449103, 0.17494811677648914, 0.13304535255322938, 0.08804471860140181, 0.00016304577518778113, 0.0014674119766900301, 0.015000211317275863, 0.9979702828102598, 0.9987820320795401, 0.9881681235386728, 0.00916384658613916, 0.9976537883559963, 0.9994702184767928, 0.9970421396819487, 0.9980879302343829, 0.9993942463272493, 0.9976603018103853, 0.9995917092114953, 0.9972481812597782, 0.27015267852408376, 0.5507532506927454, 0.17910674819276273, 0.9992535431673001], \"Term\": [\"#\\u05d1\\u05e0\\u05e7\", \"#\\u05d2\\u05dc\\u05d9\\u05ea\", \"#\\u05d4\\u05d9\\u05d0\", \"#\\u05d9\\u05e9\\u05d9\", \"1\", \"12\", \"1400\", \"15\", \"2\", \"2024\", \"3\", \"3\", \"4\", \"5\", \"64\", \"7\", \"7\", \"710\", \"8\", \"87\", \"\\u05d0\\u05d1\\u05d9\\u05d1\", \"\\u05d0\\u05d4\", \"\\u05d0\\u05d4\", \"\\u05d0\\u05d5\\u05d9\", \"\\u05d0\\u05d5\\u05dc\\u05d9\", \"\\u05d0\\u05d5\\u05dc\\u05d9\", \"\\u05d0\\u05d5\\u05dc\\u05d9\", \"\\u05d0\\u05d5\\u05dc\\u05d9\", \"\\u05d0\\u05d5\\u05dc\\u05d9\", \"\\u05d0\\u05d5\\u05dc\\u05d9\", \"\\u05d0\\u05d5\\u05de\\u05e8\", \"\\u05d0\\u05d5\\u05de\\u05e8\", \"\\u05d0\\u05d5\\u05de\\u05e8\\u05d9\\u05dd\", \"\\u05d0\\u05d6\", \"\\u05d0\\u05d6\", \"\\u05d0\\u05d6\", \"\\u05d0\\u05d6\", \"\\u05d0\\u05d6\", \"\\u05d0\\u05d6\", \"\\u05d0\\u05d6\", \"\\u05d0\\u05d6\\u05e8\\u05d7\\u05d9\\u05dd\", \"\\u05d0\\u05d7\\u05d3\\u05d5\\u05ea\", \"\\u05d0\\u05d7\\u05d9\", \"\\u05d0\\u05d7\\u05d9\\u05dd\", \"\\u05d0\\u05d7\\u05e8\\u05d9\\u05d5\\u05ea\", \"\\u05d0\\u05d7\\u05e8\\u05d9\\u05d5\\u05ea\", \"\\u05d0\\u05d7\\u05e8\\u05d9\\u05d5\\u05ea\", \"\\u05d0\\u05d7\\u05e8\\u05d9\\u05dd\", \"\\u05d0\\u05d7\\u05ea\", \"\\u05d0\\u05d7\\u05ea\", \"\\u05d0\\u05d7\\u05ea\", \"\\u05d0\\u05d9\\u05da\", \"\\u05d0\\u05d9\\u05da\", \"\\u05d0\\u05d9\\u05da\", \"\\u05d0\\u05d9\\u05da\", \"\\u05d0\\u05d9\\u05da\", \"\\u05d0\\u05d9\\u05da\", \"\\u05d0\\u05d9\\u05da\", \"\\u05d0\\u05d9\\u05df\", \"\\u05d0\\u05d9\\u05df\", \"\\u05d0\\u05d9\\u05df\", \"\\u05d0\\u05d9\\u05df\", \"\\u05d0\\u05d9\\u05df\", \"\\u05d0\\u05d9\\u05df\", \"\\u05d0\\u05d9\\u05df\", \"\\u05d0\\u05d9\\u05df\", \"\\u05d0\\u05d9\\u05df\", \"\\u05d0\\u05d9\\u05e4\\u05d4\", \"\\u05d0\\u05d9\\u05e4\\u05d4\", \"\\u05d0\\u05d9\\u05e9\", \"\\u05d0\\u05d9\\u05e9\", \"\\u05d0\\u05d9\\u05ea\\u05da\", \"\\u05d0\\u05db\\u05e4\\u05ea\", \"\\u05d0\\u05dc\\u05e3\", \"\\u05d0\\u05dc\\u05e3\", \"\\u05d0\\u05dc\\u05e4\\u05d9\", \"\\u05d0\\u05de\\u05d9\\u05ea\\u05d9\", \"\\u05d0\\u05de\\u05df\", \"\\u05d0\\u05de\\u05e8\", \"\\u05d0\\u05e0\\u05e9\\u05d9\", \"\\u05d0\\u05e0\\u05e9\\u05d9\\u05dd\", \"\\u05d0\\u05e0\\u05e9\\u05d9\\u05dd\", \"\\u05d0\\u05e0\\u05e9\\u05d9\\u05dd\", \"\\u05d0\\u05e0\\u05e9\\u05d9\\u05dd\", \"\\u05d0\\u05e0\\u05e9\\u05d9\\u05dd\", \"\\u05d0\\u05e1\\u05ea\\u05e8\", \"\\u05d0\\u05e4\\u05e1\", \"\\u05d0\\u05e4\\u05e1\", \"\\u05d0\\u05e4\\u05e9\\u05e8\", \"\\u05d0\\u05e4\\u05e9\\u05e8\", \"\\u05d0\\u05e4\\u05e9\\u05e8\", \"\\u05d0\\u05e4\\u05e9\\u05e8\", \"\\u05d0\\u05e4\\u05e9\\u05e8\", \"\\u05d0\\u05e8\\u05d2\\u05d5\\u05df\", \"\\u05d0\\u05ea\\u05dd\", \"\\u05d0\\u05ea\\u05dd\", \"\\u05d0\\u05ea\\u05de\\u05d5\\u05dc\", \"\\u05d1\\u05d0\", \"\\u05d1\\u05d0\\u05d5\\u05e7\\u05d8\\u05d5\\u05d1\\u05e8\", \"\\u05d1\\u05d0\\u05d5\\u05e7\\u05d8\\u05d5\\u05d1\\u05e8\", \"\\u05d1\\u05d0\\u05d5\\u05e7\\u05d8\\u05d5\\u05d1\\u05e8\", \"\\u05d1\\u05d0\\u05de\\u05ea\", \"\\u05d1\\u05d0\\u05de\\u05ea\", \"\\u05d1\\u05d0\\u05de\\u05ea\", \"\\u05d1\\u05d0\\u05e8\\u05e5\", \"\\u05d1\\u05d1\\u05d7\\u05d9\\u05e8\\u05d5\\u05ea\", \"\\u05d1\\u05d1\\u05e7\\u05e9\\u05d4\", \"\\u05d1\\u05d2\\\"\\u05e5\", \"\\u05d1\\u05d2\\\"\\u05e6\", \"\\u05d1\\u05d2\\u05e5\", \"\\u05d1\\u05d2\\u05e6\", \"\\u05d1\\u05d2\\u05f4\\u05e5\", \"\\u05d1\\u05d2\\u05f4\\u05e6\", \"\\u05d1\\u05d3\\u05d9\\u05d5\\u05e7\", \"\\u05d1\\u05d3\\u05d9\\u05d5\\u05e7\", \"\\u05d1\\u05d3\\u05d9\\u05d5\\u05e7\", \"\\u05d1\\u05d3\\u05d9\\u05d5\\u05e7\", \"\\u05d1\\u05d3\\u05de\\u05d5\\u05e7\\u05e8\\u05d8\\u05d9\\u05d4\", \"\\u05d1\\u05d3\\u05e8\\u05da\", \"\\u05d1\\u05d4\\u05d0\\u05d2\", \"\\u05d1\\u05d4\\u05d7\\u05dc\\u05d8\", \"\\u05d1\\u05d4\\u05dd\", \"\\u05d1\\u05d4\\u05e1\\u05db\\u05de\\u05d4\", \"\\u05d1\\u05d4\\u05e6\\u05dc\\u05d7\\u05d4\", \"\\u05d1\\u05d5\\u05d0\", \"\\u05d1\\u05d5\\u05d0\", \"\\u05d1\\u05d5\\u05e9\\u05d4\", \"\\u05d1\\u05d6\\u05de\\u05df\", \"\\u05d1\\u05d6\\u05de\\u05df\", \"\\u05d1\\u05d6\\u05de\\u05df\", \"\\u05d1\\u05d7\\u05d5\\u05e7\", \"\\u05d1\\u05d8\\u05d5\\u05d5\\u05d9\\u05d8\\u05e8\", \"\\u05d1\\u05d8\\u05d5\\u05d7\", \"\\u05d1\\u05d9\\u05d1\\u05d9\", \"\\u05d1\\u05d9\\u05d1\\u05d9\", \"\\u05d1\\u05d9\\u05d1\\u05d9\", \"\\u05d1\\u05d9\\u05d5\\u05dd\", \"\\u05d1\\u05d9\\u05d7\\u05d3\", \"\\u05d1\\u05d9\\u05d8\\u05d5\\u05dc\", \"\\u05d1\\u05d9\\u05e7\\u05d5\\u05e8\\u05ea\", \"\\u05d1\\u05d9\\u05e8\\u05d5\\u05e9\\u05dc\\u05d9\\u05dd\", \"\\u05d1\\u05d9\\u05ea\", \"\\u05d1\\u05d9\\u05ea\", \"\\u05d1\\u05da\", \"\\u05d1\\u05db\\u05dc\", \"\\u05d1\\u05db\\u05dc\", \"\\u05d1\\u05db\\u05dc\", \"\\u05d1\\u05db\\u05dc\", \"\\u05d1\\u05db\\u05dc\\u05d0\", \"\\u05d1\\u05dc\\u05d4\", \"\\u05d1\\u05dc\\u05ea\\u05d9\", \"\\u05d1\\u05dc\\u05ea\\u05d9\", \"\\u05d1\\u05de\\u05d3\\u05d9\\u05e0\\u05d4\", \"\\u05d1\\u05de\\u05e2\\u05e8\\u05db\\u05ea\", \"\\u05d1\\u05df\", \"\\u05d1\\u05e0\\u05d9\", \"\\u05d1\\u05e0\\u05d9\", \"\\u05d1\\u05e1\\u05d3\\u05e8\", \"\\u05d1\\u05e2\\u05d6\\u05d4\", \"\\u05d1\\u05e2\\u05d6\\u05d4\", \"\\u05d1\\u05e2\\u05d6\\u05d4\", \"\\u05d1\\u05e2\\u05e6\\u05dd\", \"\\u05d1\\u05e6\\u05d1\\u05d0\", \"\\u05d1\\u05e6\\u05d3\", \"\\u05d1\\u05e6\\u05d5\\u05e8\\u05d4\", \"\\u05d1\\u05e7\\u05e8\\u05d5\\u05d1\", \"\\u05d1\\u05e8\\u05d5\\u05d1\", \"\\u05d1\\u05e8\\u05d5\\u05e8\", \"\\u05d1\\u05e8\\u05d5\\u05e8\", \"\\u05d1\\u05e8\\u05d5\\u05e8\", \"\\u05d1\\u05e8\\u05d5\\u05e8\", \"\\u05d1\\u05e8\\u05e7\", \"\\u05d1\\u05e9\\u05dd\", \"\\u05d1\\u05e9\\u05e0\\u05d4\", \"\\u05d2\\u05d1\\u05d9\\u05e8\", \"\\u05d2\\u05d3\\u05d5\\u05dc\", \"\\u05d2\\u05e0\\u05e5\", \"\\u05d2\\u05e8\\u05d5\\u05e2\", \"\\u05d3\\u05d1\\u05e8\", \"\\u05d3\\u05d1\\u05e8\", \"\\u05d3\\u05d1\\u05e8\", \"\\u05d3\\u05d1\\u05e8\\u05d9\\u05dd\", \"\\u05d3\\u05d1\\u05e8\\u05d9\\u05dd\", \"\\u05d3\\u05d5\\u05d5\\u05e7\\u05d0\", \"\\u05d3\\u05d5\\u05d7\\u05d4\", \"\\u05d3\\u05d9\", \"\\u05d3\\u05d9\\u05df\", \"\\u05d3\\u05d9\\u05df\", \"\\u05d3\\u05d9\\u05e1\\u05d8\\u05dc\", \"\\u05d3\\u05d9\\u05e1\\u05d8\\u05dc\", \"\\u05d3\\u05d9\\u05e7\\u05d8\\u05d8\\u05d5\\u05e8\\u05d4\", \"\\u05d3\\u05de\\u05d5\\u05e7\\u05e8\\u05d8\\u05d9\\u05d4\", \"\\u05d3\\u05de\\u05d5\\u05e7\\u05e8\\u05d8\\u05d9\\u05ea\", \"\\u05d4\\u05d0\\u05d6\\u05e8\\u05d7\\u05d9\\u05dd\", \"\\u05d4\\u05d0\\u05d7\\u05e8\\u05d5\\u05df\", \"\\u05d4\\u05d0\\u05e1\\u05d5\\u05df\", \"\\u05d4\\u05d1\\u05d9\\u05ea\", \"\\u05d4\\u05d1\\u05e0\\u05ea\\u05d9\", \"\\u05d4\\u05d1\\u05e2\\u05d9\\u05d4\", \"\\u05d4\\u05d2\\u05d9\\u05e2\", \"\\u05d4\\u05d2\\u05d9\\u05e2\", \"\\u05d4\\u05d3\\u05d9\\u05df\", \"\\u05d4\\u05d3\\u05de\\u05d5\\u05e7\\u05e8\\u05d8\\u05d9\\u05d4\", \"\\u05d4\\u05d4\\u05d7\\u05dc\\u05d8\\u05d4\", \"\\u05d4\\u05d4\\u05e4\\u05d9\\u05db\\u05d4\", \"\\u05d4\\u05d5\\u05dc\\u05da\", \"\\u05d4\\u05d5\\u05dc\\u05da\", \"\\u05d4\\u05d6\\u05d0\\u05ea\", \"\\u05d4\\u05d6\\u05d0\\u05ea\", \"\\u05d4\\u05d6\\u05d0\\u05ea\", \"\\u05d4\\u05d6\\u05d4\", \"\\u05d4\\u05d6\\u05d4\", \"\\u05d4\\u05d6\\u05d4\", \"\\u05d4\\u05d6\\u05d4\", \"\\u05d4\\u05d6\\u05d4\", \"\\u05d4\\u05d6\\u05d4\", \"\\u05d4\\u05d6\\u05d4\", \"\\u05d4\\u05d6\\u05d5\", \"\\u05d4\\u05d6\\u05d5\", \"\\u05d4\\u05d6\\u05d5\", \"\\u05d4\\u05d6\\u05de\\u05df\", \"\\u05d4\\u05d7\\u05d5\\u05e7\", \"\\u05d4\\u05d7\\u05d9\\u05d9\\u05dc\\u05d9\\u05dd\", \"\\u05d4\\u05d7\\u05dc\\u05d8\\u05d5\\u05ea\", \"\\u05d4\\u05d7\\u05dc\\u05d8\\u05ea\", \"\\u05d4\\u05d7\\u05de\\u05d0\\u05e1\", \"\\u05d4\\u05d7\\u05de\\u05d0\\u05e1\", \"\\u05d4\\u05d7\\u05de\\u05d0\\u05e1\", \"\\u05d4\\u05d7\\u05e7\\u05d9\\u05e7\\u05d4\", \"\\u05d4\\u05d9\\u05d4\\u05d5\\u05d3\\u05d9\", \"\\u05d4\\u05d9\\u05d5\\u05dd\", \"\\u05d4\\u05d9\\u05d5\\u05dd\", \"\\u05d4\\u05d9\\u05d5\\u05dd\", \"\\u05d4\\u05d9\\u05d5\\u05dd\", \"\\u05d4\\u05d9\\u05d7\\u05d9\\u05d3\\u05d4\", \"\\u05d4\\u05d9\\u05d9\\u05ea\", \"\\u05d4\\u05d9\\u05d9\\u05ea\", \"\\u05d4\\u05d9\\u05d9\\u05ea\\u05d9\", \"\\u05d4\\u05d9\\u05de\\u05d9\\u05df\", \"\\u05d4\\u05d9\\u05de\\u05d9\\u05df\", \"\\u05d4\\u05d9\\u05e1\\u05d5\\u05d3\", \"\\u05d4\\u05d9\\u05e9\\u05e8\\u05d0\\u05dc\\u05d9\", \"\\u05d4\\u05d9\\u05e9\\u05e8\\u05d0\\u05dc\\u05d9\\u05ea\", \"\\u05d4\\u05d9\\u05ea\\u05d4\", \"\\u05d4\\u05db\\u05d9\", \"\\u05d4\\u05db\\u05dc\", \"\\u05d4\\u05db\\u05dc\", \"\\u05d4\\u05db\\u05dc\", \"\\u05d4\\u05db\\u05dc\", \"\\u05d4\\u05db\\u05dc\", \"\\u05d4\\u05db\\u05e0\\u05e1\\u05ea\", \"\\u05d4\\u05db\\u05e0\\u05e1\\u05ea\", \"\\u05d4\\u05dc\\u05d5\\u05d7\\u05de\\u05d9\\u05dd\", \"\\u05d4\\u05dc\\u05d9\\u05dc\\u05d4\", \"\\u05d4\\u05de\\u05d3\\u05d9\\u05e0\\u05d4\", \"\\u05d4\\u05de\\u05d3\\u05d9\\u05e0\\u05d4\", \"\\u05d4\\u05de\\u05d3\\u05d9\\u05e0\\u05d4\", \"\\u05d4\\u05de\\u05dc\\u05d7\\u05de\\u05d4\", \"\\u05d4\\u05de\\u05dc\\u05d7\\u05de\\u05d4\", \"\\u05d4\\u05de\\u05dc\\u05d7\\u05de\\u05d4\", \"\\u05d4\\u05de\\u05dc\\u05d7\\u05de\\u05d4\", \"\\u05d4\\u05de\\u05de\\u05e9\\u05dc\\u05d4\", \"\\u05d4\\u05de\\u05de\\u05e9\\u05dc\\u05d4\", \"\\u05d4\\u05de\\u05de\\u05e9\\u05dc\\u05d4\", \"\\u05d4\\u05de\\u05de\\u05e9\\u05dc\\u05d4\", \"\\u05d4\\u05de\\u05e9\\u05d7\\u05e7\", \"\\u05d4\\u05de\\u05e9\\u05e4\\u05d8\", \"\\u05d4\\u05de\\u05e9\\u05e4\\u05d8\\u05d9\\u05ea\", \"\\u05d4\\u05e1\\u05d1\\u05d9\\u05e8\\u05d5\\u05ea\", \"\\u05d4\\u05e1\\u05d9\\u05e4\\u05d5\\u05e8\", \"\\u05d4\\u05e2\\u05d9\\u05e7\\u05e8\", \"\\u05d4\\u05e2\\u05dc\\u05d9\\u05d5\\u05df\", \"\\u05d4\\u05e2\\u05dd\", \"\\u05d4\\u05e2\\u05dd\", \"\\u05d4\\u05e2\\u05dd\", \"\\u05d4\\u05e2\\u05e8\\u05d1\", \"\\u05d4\\u05e2\\u05e8\\u05d1\", \"\\u05d4\\u05e4\\u05d5\\u05da\", \"\\u05d4\\u05e4\\u05d9\\u05db\\u05d4\", \"\\u05d4\\u05e4\\u05e1\\u05d9\\u05e7\\u05d4\", \"\\u05d4\\u05e6\\u05d1\\u05d0\", \"\\u05d4\\u05e6\\u05d1\\u05d0\", \"\\u05d4\\u05e6\\u05d9\\u05d1\\u05d5\\u05e8\", \"\\u05d4\\u05e6\\u05d9\\u05d1\\u05d5\\u05e8\", \"\\u05d4\\u05e7\\u05d5\\u05d0\\u05dc\\u05d9\\u05e6\\u05d9\\u05d4\", \"\\u05d4\\u05e8\\u05d0\\u05e9\", \"\\u05d4\\u05e8\\u05d5\\u05d1\", \"\\u05d4\\u05e8\\u05e2\\u05dc\", \"\\u05d4\\u05e8\\u05e4\\u05d5\\u05e8\\u05de\\u05d4\", \"\\u05d4\\u05e8\\u05e9\\u05d5\\u05ea\", \"\\u05d4\\u05e9\\u05d5\\u05e4\\u05d8\", \"\\u05d4\\u05e9\\u05d5\\u05e4\\u05d8\\u05d9\\u05dd\", \"\\u05d4\\u05e9\\u05dd\", \"\\u05d4\\u05e9\\u05de\\u05d0\\u05dc\", \"\\u05d4\\u05e9\\u05de\\u05d0\\u05dc\", \"\\u05d4\\u05e9\\u05e0\\u05d4\", \"\\u05d4\\u05e9\\u05e0\\u05d4\", \"\\u05d4\\u05e9\\u05e8\", \"\\u05d5\\u05d0\\u05dd\", \"\\u05d5\\u05d0\\u05e0\\u05d9\", \"\\u05d5\\u05d0\\u05e0\\u05d9\", \"\\u05d5\\u05d0\\u05ea\", \"\\u05d5\\u05d0\\u05ea\", \"\\u05d5\\u05d0\\u05ea\\u05d4\", \"\\u05d5\\u05d4\\u05dd\", \"\\u05d5\\u05d5\\u05d0\\u05d5\", \"\\u05d5\\u05db\\u05dc\", \"\\u05d5\\u05db\\u05dc\", \"\\u05d5\\u05dc\\u05d0\", \"\\u05d5\\u05dc\\u05d0\", \"\\u05d5\\u05dc\\u05d0\", \"\\u05d5\\u05dc\\u05d0\", \"\\u05d5\\u05dc\\u05d0\", \"\\u05d5\\u05dc\\u05d0\", \"\\u05d5\\u05dc\\u05d0\", \"\\u05d5\\u05de\\u05d9\", \"\\u05d5\\u05e2\\u05d3\\u05d9\\u05d9\\u05df\", \"\\u05d5\\u05e8\\u05e7\", \"\\u05d6\\u05d1\\u05dc\", \"\\u05d6\\u05de\\u05df\", \"\\u05d6\\u05de\\u05df\", \"\\u05d6\\u05de\\u05df\", \"\\u05d7\", \"\\u05d7\\u05d1\\u05e8\", \"\\u05d7\\u05d2\", \"\\u05d7\\u05d5\\u05e1\\u05e8\", \"\\u05d7\\u05d5\\u05e5\", \"\\u05d7\\u05d5\\u05e7\", \"\\u05d7\\u05d5\\u05e7\\u05d4\", \"\\u05d7\\u05d5\\u05e7\\u05d9\", \"\\u05d7\\u05d5\\u05e7\\u05d9\\u05dd\", \"\\u05d7\\u05d5\\u05e9\\u05d1\", \"\\u05d7\\u05d5\\u05e9\\u05d1\", \"\\u05d7\\u05d5\\u05e9\\u05d1\\u05ea\", \"\\u05d7\\u05d6\\u05e7\", \"\\u05d7\\u05d8\\u05d5\\u05e4\\u05d9\\u05dd\", \"\\u05d7\\u05d8\\u05d5\\u05e4\\u05d9\\u05dd\", \"\\u05d7\\u05d9\", \"\\u05d7\\u05d9\\u05d5\\u05ea\", \"\\u05d7\\u05d9\\u05d5\\u05ea\", \"\\u05d7\\u05d9\\u05d5\\u05ea\", \"\\u05d7\\u05d9\\u05d9\\u05dc\", \"\\u05d7\\u05d9\\u05d9\\u05dc\\u05d9\", \"\\u05d7\\u05d9\\u05d9\\u05dc\\u05d9\\u05dd\", \"\\u05d7\\u05de\\u05d0\\u05e1\", \"\\u05d7\\u05de\\u05d0\\u05e1\", \"\\u05d7\\u05de\\u05d0\\u05e1\", \"\\u05d7\\u05de\\u05d0\\u05e1\", \"\\u05d7\\u05e1\\u05e8\\u05d9\", \"\\u05d7\\u05e6\\u05d9\", \"\\u05d7\\u05e6\\u05d9\", \"\\u05d7\\u05e7\\u05d9\\u05e7\\u05d4\", \"\\u05d7\\u05e9\\u05d1\\u05ea\\u05d9\", \"\\u05d7\\u05e9\\u05d5\\u05d1\", \"\\u05d7\\u05e9\\u05d5\\u05d1\", \"\\u05d7\\u05ea\\u05d9\\u05db\\u05ea\", \"\\u05d8\\u05d5\\u05d1\", \"\\u05d8\\u05d5\\u05d1\\u05d4\", \"\\u05d8\\u05d5\\u05d1\\u05d9\\u05dd\", \"\\u05d9\\u05d0\", \"\\u05d9\\u05d0\", \"\\u05d9\\u05d0\\u05d9\\u05e8\", \"\\u05d9\\u05d0\\u05dc\\u05dc\\u05d4\", \"\\u05d9\\u05d4\\u05d5\\u05d3\\u05d9\", \"\\u05d9\\u05d4\\u05d5\\u05d3\\u05d9\\u05dd\", \"\\u05d9\\u05d4\\u05d9\\u05d4\", \"\\u05d9\\u05d4\\u05d9\\u05d4\", \"\\u05d9\\u05d4\\u05d9\\u05d4\", \"\\u05d9\\u05d4\\u05d9\\u05d4\", \"\\u05d9\\u05d4\\u05d9\\u05d4\", \"\\u05d9\\u05d4\\u05d9\\u05d5\", \"\\u05d9\\u05d5\\u05d3\\u05e2\", \"\\u05d9\\u05d5\\u05d3\\u05e2\", \"\\u05d9\\u05d5\\u05d3\\u05e2\", \"\\u05d9\\u05d5\\u05d3\\u05e2\\u05ea\", \"\\u05d9\\u05d5\\u05dd\", \"\\u05d9\\u05d5\\u05dd\", \"\\u05d9\\u05d5\\u05dd\", \"\\u05d9\\u05db\\u05d5\\u05dc\", \"\\u05d9\\u05db\\u05d5\\u05dc\", \"\\u05d9\\u05db\\u05d5\\u05dc\", \"\\u05d9\\u05db\\u05d5\\u05dc\\u05d9\\u05dd\", \"\\u05d9\\u05db\\u05d5\\u05dc\\u05d9\\u05dd\", \"\\u05d9\\u05dc\\u05d3\", \"\\u05d9\\u05dc\\u05d3\\u05d9\\u05dd\", \"\\u05d9\\u05de\\u05d9\", \"\\u05d9\\u05de\\u05d9\\u05df\", \"\\u05d9\\u05de\\u05d9\\u05df\", \"\\u05d9\\u05e1\\u05d5\\u05d3\", \"\\u05d9\\u05e4\\u05d4\", \"\\u05d9\\u05e8\\u05d9\\u05d1\", \"\\u05d9\\u05e9\\u05e8\\u05d0\\u05dc\", \"\\u05d9\\u05e9\\u05e8\\u05d0\\u05dc\", \"\\u05d9\\u05e9\\u05e8\\u05d0\\u05dc\", \"\\u05d9\\u05e9\\u05e8\\u05d0\\u05dc\", \"\\u05d9\\u05e9\\u05e8\\u05d0\\u05dc\\u05d9\\u05dd\", \"\\u05db\\u05d0\\u05dc\\u05d4\", \"\\u05db\\u05d1\\u05e8\", \"\\u05db\\u05d1\\u05e8\", \"\\u05db\\u05d1\\u05e8\", \"\\u05db\\u05d1\\u05e8\", \"\\u05db\\u05d1\\u05e8\", \"\\u05db\\u05d1\\u05e8\", \"\\u05db\\u05d1\\u05e8\", \"\\u05db\\u05d4\\u05df\", \"\\u05db\\u05d5\\u05d7\", \"\\u05db\\u05d5\\u05dc\\u05e0\\u05d5\", \"\\u05db\\u05d5\\u05dc\\u05e0\\u05d5\", \"\\u05db\\u05d5\\u05dc\\u05e0\\u05d5\", \"\\u05db\\u05d5\\u05ea\\u05d1\", \"\\u05db\\u05d6\\u05d4\", \"\\u05db\\u05d6\\u05d4\", \"\\u05db\\u05d9\\u05e3\", \"\\u05db\\u05db\\u05d4\", \"\\u05db\\u05db\\u05d4\", \"\\u05db\\u05db\\u05d4\", \"\\u05db\\u05dc\\u05d5\\u05dd\", \"\\u05db\\u05dc\\u05d5\\u05dd\", \"\\u05db\\u05dc\\u05d5\\u05dd\", \"\\u05db\\u05dc\\u05d5\\u05dd\", \"\\u05db\\u05e0\\u05e1\\u05ea\", \"\\u05db\\u05e0\\u05e1\\u05ea\", \"\\u05dc\\u05d1\\u05d8\\u05dc\", \"\\u05dc\\u05d1\\u05d9\\u05ea\", \"\\u05dc\\u05d2\\u05de\\u05e8\\u05d9\", \"\\u05dc\\u05d2\\u05de\\u05e8\\u05d9\", \"\\u05dc\\u05d3\\u05e2\\u05ea\\u05d9\", \"\\u05dc\\u05d4\\u05d1\\u05d9\\u05d0\", \"\\u05dc\\u05d4\\u05d1\\u05d9\\u05df\", \"\\u05dc\\u05d4\\u05d1\\u05d9\\u05df\", \"\\u05dc\\u05d4\\u05d2\\u05d9\\u05e2\", \"\\u05dc\\u05d4\\u05d9\\u05d5\\u05ea\", \"\\u05dc\\u05d4\\u05d9\\u05d5\\u05ea\", \"\\u05dc\\u05d4\\u05d9\\u05d5\\u05ea\", \"\\u05dc\\u05d4\\u05d9\\u05d5\\u05ea\", \"\\u05dc\\u05d4\\u05dd\", \"\\u05dc\\u05d4\\u05dd\", \"\\u05dc\\u05d4\\u05dd\", \"\\u05dc\\u05d4\\u05dd\", \"\\u05dc\\u05d4\\u05dd\", \"\\u05dc\\u05d4\\u05e1\\u05d1\\u05d9\\u05e8\", \"\\u05dc\\u05d4\\u05e2\\u05d1\\u05d9\\u05e8\", \"\\u05dc\\u05d5\\u05d9\\u05df\", \"\\u05dc\\u05d5\\u05de\\u05e8\", \"\\u05dc\\u05d6\\u05d4\", \"\\u05dc\\u05d6\\u05d4\", \"\\u05dc\\u05d7\\u05d5\\u05e7\", \"\\u05dc\\u05d7\\u05d5\\u05e7\\u05e7\", \"\\u05dc\\u05d7\\u05d9\\u05d5\\u05ea\", \"\\u05dc\\u05d9\", \"\\u05dc\\u05d9\", \"\\u05dc\\u05d9\\u05de\\u05d9\\u05df\", \"\\u05dc\\u05da\", \"\\u05dc\\u05da\", \"\\u05dc\\u05da\", \"\\u05dc\\u05da\", \"\\u05dc\\u05da\", \"\\u05dc\\u05db\\u05dd\", \"\\u05dc\\u05db\\u05dd\", \"\\u05dc\\u05db\\u05e0\\u05e1\\u05ea\", \"\\u05dc\\u05db\\u05ea\\u05d5\\u05d1\", \"\\u05dc\\u05de\\u05d3\\u05d9\\u05e0\\u05d4\", \"\\u05dc\\u05de\\u05d4\", \"\\u05dc\\u05de\\u05d4\", \"\\u05dc\\u05de\\u05d4\", \"\\u05dc\\u05de\\u05d9\", \"\\u05dc\\u05e0\\u05d5\", \"\\u05dc\\u05e0\\u05d5\", \"\\u05dc\\u05e0\\u05d5\", \"\\u05dc\\u05e0\\u05d5\", \"\\u05dc\\u05e0\\u05d5\", \"\\u05dc\\u05e0\\u05d5\", \"\\u05dc\\u05e0\\u05d5\", \"\\u05dc\\u05e0\\u05e6\\u05d7\", \"\\u05dc\\u05e2\\u05d1\\u05d5\\u05d3\", \"\\u05dc\\u05e2\\u05d6\\u05d4\", \"\\u05dc\\u05e2\\u05e9\\u05d5\\u05ea\", \"\\u05dc\\u05e2\\u05e9\\u05d5\\u05ea\", \"\\u05dc\\u05e2\\u05e9\\u05d5\\u05ea\", \"\\u05dc\\u05e2\\u05e9\\u05d5\\u05ea\", \"\\u05dc\\u05e4\\u05e1\\u05d5\\u05dc\", \"\\u05dc\\u05e6\\u05e2\\u05e8\\u05d9\", \"\\u05dc\\u05e7\\u05d7\\u05ea\", \"\\u05dc\\u05e7\\u05e8\\u05d5\\u05d0\", \"\\u05dc\\u05e8\\u05d0\\u05d5\\u05ea\", \"\\u05dc\\u05e8\\u05d0\\u05d5\\u05ea\", \"\\u05dc\\u05e9\\u05de\\u05d5\\u05e8\", \"\\u05dc\\u05e9\\u05e0\\u05d5\\u05ea\", \"\\u05de\\u05d0\\u05d5\\u05d3\", \"\\u05de\\u05d0\\u05d5\\u05d3\", \"\\u05de\\u05d0\\u05d5\\u05ea\", \"\\u05de\\u05d0\\u05d5\\u05ea\", \"\\u05de\\u05d1\\u05d9\\u05e0\\u05d9\\u05dd\", \"\\u05de\\u05d1\\u05d9\\u05ea\", \"\\u05de\\u05d3\\u05d1\\u05e8\", \"\\u05de\\u05d3\\u05d4\\u05d9\\u05dd\", \"\\u05de\\u05d3\\u05d9\\u05e0\\u05d4\", \"\\u05de\\u05d3\\u05d9\\u05e0\\u05d4\", \"\\u05de\\u05d3\\u05d9\\u05e0\\u05d4\", \"\\u05de\\u05d3\\u05d9\\u05e0\\u05ea\", \"\\u05de\\u05d3\\u05d9\\u05e0\\u05ea\", \"\\u05de\\u05d5\\u05d5\\u05ea\", \"\\u05de\\u05d5\\u05ea\\u05e8\", \"\\u05de\\u05d6\\u05d4\", \"\\u05de\\u05d6\\u05d4\", \"\\u05de\\u05d6\\u05dc\", \"\\u05de\\u05d7\\u05d1\\u05dc\", \"\\u05de\\u05d7\\u05d3\\u05e9\", \"\\u05de\\u05d7\\u05e8\", \"\\u05de\\u05d7\\u05e8\", \"\\u05de\\u05d8\\u05d5\\u05de\\u05d8\\u05dd\", \"\\u05de\\u05d9\\u05dc\\u05d4\", \"\\u05de\\u05d9\\u05dc\\u05d9\\u05d5\\u05df\", \"\\u05de\\u05d9\\u05dc\\u05d9\\u05dd\", \"\\u05de\\u05db\\u05d5\\u05e0\\u05ea\", \"\\u05de\\u05db\\u05d9\\u05e8\", \"\\u05de\\u05dc\\u05d0\", \"\\u05de\\u05dc\\u05d7\\u05de\\u05d4\", \"\\u05de\\u05dc\\u05d7\\u05de\\u05d4\", \"\\u05de\\u05dc\\u05d7\\u05de\\u05d4\", \"\\u05de\\u05dc\\u05d7\\u05de\\u05d4\", \"\\u05de\\u05dc\\u05d7\\u05de\\u05ea\", \"\\u05de\\u05de\\u05e9\", \"\\u05de\\u05de\\u05e9\", \"\\u05de\\u05de\\u05e9\\u05dc\\u05d4\", \"\\u05de\\u05de\\u05e9\\u05dc\\u05ea\", \"\\u05de\\u05de\\u05e9\\u05dc\\u05ea\", \"\\u05de\\u05e0\\u05d3\\u05d8\\u05d9\\u05dd\", \"\\u05de\\u05e0\\u05e1\\u05d4\", \"\\u05de\\u05e0\\u05e1\\u05d4\", \"\\u05de\\u05e1\\u05db\\u05d9\\u05dd\", \"\\u05de\\u05e2\\u05e0\\u05d9\\u05d9\\u05df\", \"\\u05de\\u05e2\\u05e0\\u05d9\\u05d9\\u05df\", \"\\u05de\\u05e2\\u05e8\\u05db\\u05ea\", \"\\u05de\\u05e7\\u05d5\\u05dd\", \"\\u05de\\u05e7\\u05d5\\u05dd\", \"\\u05de\\u05e9\\u05d7\\u05e7\", \"\\u05de\\u05e9\\u05de\\u05e2\\u05d5\\u05ea\", \"\\u05de\\u05e9\\u05e4\\u05d8\", \"\\u05de\\u05e9\\u05e4\\u05d8\\u05d9\\u05ea\", \"\\u05de\\u05ea\", \"\\u05de\\u05ea\\u05d9\\u05dd\", \"\\u05e0\\u05d5\\u05e8\\u05d0\", \"\\u05e0\\u05d9\\u05ea\\u05df\", \"\\u05e0\\u05dc\\u05d7\\u05dd\", \"\\u05e0\\u05dc\\u05d7\\u05de\\u05d9\\u05dd\", \"\\u05e0\\u05e8\\u05d0\\u05d4\", \"\\u05e0\\u05e9\\u05d0\\u05e8\", \"\\u05e0\\u05e9\\u05de\\u05e2\", \"\\u05e0\\u05ea\\u05e0\\u05d9\\u05d4\\u05d5\", \"\\u05e0\\u05ea\\u05e0\\u05d9\\u05d4\\u05d5\", \"\\u05e0\\u05ea\\u05e0\\u05d9\\u05d4\\u05d5\", \"\\u05e0\\u05ea\\u05e0\\u05d9\\u05d4\\u05d5\", \"\\u05e0\\u05ea\\u05e0\\u05d9\\u05d4\\u05d5\", \"\\u05e1\\u05d1\\u05d9\\u05e8\", \"\\u05e1\\u05d1\\u05d9\\u05e8\\u05d5\\u05ea\", \"\\u05e1\\u05d2\\u05dc\", \"\\u05e1\\u05d5\\u05e3\", \"\\u05e1\\u05de\\u05db\\u05d5\\u05ea\", \"\\u05e2\\u05d1\\u05d3\", \"\\u05e2\\u05d3\\u05d9\\u05d9\\u05df\", \"\\u05e2\\u05d3\\u05d9\\u05d9\\u05df\", \"\\u05e2\\u05d3\\u05d9\\u05d9\\u05df\", \"\\u05e2\\u05d3\\u05d9\\u05d9\\u05df\", \"\\u05e2\\u05d3\\u05d9\\u05d9\\u05df\", \"\\u05e2\\u05d3\\u05d9\\u05d9\\u05df\", \"\\u05e2\\u05d3\\u05d9\\u05d9\\u05df\", \"\\u05e2\\u05d3\\u05d9\\u05e3\", \"\\u05e2\\u05d5\\u05dc\\u05dd\", \"\\u05e2\\u05d5\\u05e9\\u05d4\", \"\\u05e2\\u05d5\\u05e9\\u05d9\\u05dd\", \"\\u05e2\\u05d5\\u05e9\\u05d9\\u05dd\", \"\\u05e2\\u05d5\\u05e9\\u05d9\\u05dd\", \"\\u05e2\\u05d6\\u05d4\", \"\\u05e2\\u05d9\\u05dc\\u05ea\", \"\\u05e2\\u05d9\\u05ea\\u05d5\\u05e0\\u05d0\\u05d9\", \"\\u05e2\\u05db\\u05e9\\u05d9\\u05d5\", \"\\u05e2\\u05db\\u05e9\\u05d9\\u05d5\", \"\\u05e2\\u05db\\u05e9\\u05d9\\u05d5\", \"\\u05e2\\u05db\\u05e9\\u05d9\\u05d5\", \"\\u05e2\\u05db\\u05e9\\u05d9\\u05d5\", \"\\u05e2\\u05dc\\u05d5\\u05d1\", \"\\u05e2\\u05de\\u05d9\\u05ea\", \"\\u05e2\\u05e6\\u05d5\\u05d1\", \"\\u05e2\\u05e8\\u05d1\", \"\\u05e2\\u05e8\\u05d5\\u05e5\", \"\\u05e2\\u05e9\\u05d5\", \"\\u05e4\\u05d4\", \"\\u05e4\\u05d4\", \"\\u05e4\\u05d4\", \"\\u05e4\\u05d4\", \"\\u05e4\\u05d4\", \"\\u05e4\\u05d4\", \"\\u05e4\\u05d4\", \"\\u05e4\\u05e1\\u05d9\\u05e7\\u05d4\", \"\\u05e4\\u05e1\\u05d9\\u05e7\\u05ea\", \"\\u05e4\\u05e1\\u05dc\", \"\\u05e4\\u05e1\\u05e7\", \"\\u05e4\\u05e2\\u05dd\", \"\\u05e4\\u05e9\\u05d5\\u05d8\", \"\\u05e4\\u05e9\\u05d5\\u05d8\", \"\\u05e4\\u05e9\\u05d5\\u05d8\", \"\\u05e4\\u05e9\\u05d5\\u05d8\", \"\\u05e6\\u05d5\\u05d3\\u05e7\", \"\\u05e6\\u05e8\\u05d9\\u05da\", \"\\u05e6\\u05e8\\u05d9\\u05da\", \"\\u05e6\\u05e8\\u05d9\\u05da\", \"\\u05e6\\u05e8\\u05d9\\u05da\", \"\\u05e6\\u05e8\\u05d9\\u05da\", \"\\u05e6\\u05e8\\u05d9\\u05db\\u05d4\", \"\\u05e6\\u05e8\\u05d9\\u05db\\u05d4\", \"\\u05e6\\u05e8\\u05d9\\u05db\\u05d9\\u05dd\", \"\\u05e6\\u05e8\\u05d9\\u05db\\u05d9\\u05dd\", \"\\u05e7\\u05d5\\u05dc\", \"\\u05e7\\u05d5\\u05e8\\u05d4\", \"\\u05e7\\u05d9\\u05e6\\u05d5\\u05e0\\u05d9\", \"\\u05e7\\u05dc\", \"\\u05e7\\u05e6\\u05ea\", \"\\u05e7\\u05e6\\u05ea\", \"\\u05e7\\u05e8\\u05d4\", \"\\u05e7\\u05e9\\u05d4\", \"\\u05e7\\u05e9\\u05d4\", \"\\u05e8\\u05d0\\u05d5\\u05d9\", \"\\u05e8\\u05d0\\u05d9\\u05ea\\u05d9\", \"\\u05e8\\u05d0\\u05e9\", \"\\u05e8\\u05d0\\u05e9\\u05d5\\u05df\", \"\\u05e8\\u05d1\", \"\\u05e8\\u05d1\\u05d9\\u05dd\", \"\\u05e8\\u05d2\\u05d9\\u05dc\", \"\\u05e8\\u05d5\\u05d0\\u05d4\", \"\\u05e8\\u05d5\\u05e6\\u05d4\", \"\\u05e8\\u05d5\\u05e6\\u05d4\", \"\\u05e8\\u05d7\\u05d1\\u05d4\", \"\\u05e8\\u05e2\", \"\\u05e8\\u05e4\\u05d5\\u05e8\\u05de\\u05d4\", \"\\u05e8\\u05e6\\u05d7\", \"\\u05e9\\u05d0\\u05d9\\u05df\", \"\\u05e9\\u05d0\\u05d9\\u05df\", \"\\u05e9\\u05d0\\u05d9\\u05df\", \"\\u05e9\\u05d0\\u05d9\\u05df\", \"\\u05e9\\u05d0\\u05e0\\u05d9\", \"\\u05e9\\u05d0\\u05e0\\u05d9\", \"\\u05e9\\u05d0\\u05ea\", \"\\u05e9\\u05d0\\u05ea\\u05d4\", \"\\u05e9\\u05d0\\u05ea\\u05d4\", \"\\u05e9\\u05d0\\u05ea\\u05d4\", \"\\u05e9\\u05d1\\u05d9\\u05ea\", \"\\u05e9\\u05d4\\u05d5\\u05d0\", \"\\u05e9\\u05d4\\u05d5\\u05d0\", \"\\u05e9\\u05d4\\u05d5\\u05d0\", \"\\u05e9\\u05d4\\u05dd\", \"\\u05e9\\u05d4\\u05dd\", \"\\u05e9\\u05d4\\u05dd\", \"\\u05e9\\u05d4\\u05dd\", \"\\u05e9\\u05d4\\u05dd\", \"\\u05e9\\u05d4\\u05de\\u05de\\u05e9\\u05dc\\u05d4\", \"\\u05e9\\u05d5\\u05d5\\u05d4\", \"\\u05e9\\u05d5\\u05e4\\u05d8\", \"\\u05e9\\u05d5\\u05e4\\u05d8\\u05d9\", \"\\u05e9\\u05d5\\u05e4\\u05d8\\u05d9\\u05dd\", \"\\u05e9\\u05d6\\u05d4\", \"\\u05e9\\u05d6\\u05d4\", \"\\u05e9\\u05d9\\u05d4\\u05d9\\u05d4\", \"\\u05e9\\u05d9\\u05d4\\u05d9\\u05d4\", \"\\u05e9\\u05d9\\u05e0\\u05d5\\u05d9\", \"\\u05e9\\u05d9\\u05e9\", \"\\u05e9\\u05d9\\u05e9\", \"\\u05e9\\u05d9\\u05e9\", \"\\u05e9\\u05d9\\u05e9\", \"\\u05e9\\u05d9\\u05e9\", \"\\u05e9\\u05dc\\u05d0\", \"\\u05e9\\u05dc\\u05d0\", \"\\u05e9\\u05dc\\u05d0\", \"\\u05e9\\u05dc\\u05d0\", \"\\u05e9\\u05dc\\u05d0\", \"\\u05e9\\u05dc\\u05d0\", \"\\u05e9\\u05dc\\u05d0\", \"\\u05e9\\u05dc\\u05d0\", \"\\u05e9\\u05dc\\u05d5\\u05dd\", \"\\u05e9\\u05dc\\u05d8\\u05d5\\u05df\", \"\\u05e9\\u05dc\\u05de\\u05d4\", \"\\u05e9\\u05dc\\u05de\\u05d4\", \"\\u05e9\\u05de\\u05d0\\u05dc\", \"\\u05e9\\u05e0\\u05d4\", \"\\u05e9\\u05e0\\u05d9\\u05d4\", \"\\u05e9\\u05e6\\u05e8\\u05d9\\u05da\", \"\\u05e9\\u05e8\\u05d4\", \"\\u05ea\\u05d2\\u05d9\\u05d3\", \"\\u05ea\\u05d5\\u05d3\\u05d4\", \"\\u05ea\\u05dc\", \"\\u05ea\\u05de\\u05d9\\u05d3\", \"\\u05ea\\u05de\\u05d9\\u05d3\", \"\\u05ea\\u05de\\u05d9\\u05d3\", \"\\ufe0f\"]}, \"R\": 30, \"lambda.step\": 0.01, \"plot.opts\": {\"xlab\": \"PC1\", \"ylab\": \"PC2\"}, \"topic.order\": [7, 6, 9, 5, 2, 10, 3, 1, 4, 8]};\n",
       "\n",
       "function LDAvis_load_lib(url, callback){\n",
       "  var s = document.createElement('script');\n",
       "  s.src = url;\n",
       "  s.async = true;\n",
       "  s.onreadystatechange = s.onload = callback;\n",
       "  s.onerror = function(){console.warn(\"failed to load library \" + url);};\n",
       "  document.getElementsByTagName(\"head\")[0].appendChild(s);\n",
       "}\n",
       "\n",
       "if(typeof(LDAvis) !== \"undefined\"){\n",
       "   // already loaded: just create the visualization\n",
       "   !function(LDAvis){\n",
       "       new LDAvis(\"#\" + \"ldavis_el926871406076089916323223317717\", ldavis_el926871406076089916323223317717_data);\n",
       "   }(LDAvis);\n",
       "}else if(typeof define === \"function\" && define.amd){\n",
       "   // require.js is available: use it to load d3/LDAvis\n",
       "   require.config({paths: {d3: \"https://d3js.org/d3.v5\"}});\n",
       "   require([\"d3\"], function(d3){\n",
       "      window.d3 = d3;\n",
       "      LDAvis_load_lib(\"https://cdn.jsdelivr.net/gh/bmabey/pyLDAvis@3.4.0/pyLDAvis/js/ldavis.v3.0.0.js\", function(){\n",
       "        new LDAvis(\"#\" + \"ldavis_el926871406076089916323223317717\", ldavis_el926871406076089916323223317717_data);\n",
       "      });\n",
       "    });\n",
       "}else{\n",
       "    // require.js not available: dynamically load d3 & LDAvis\n",
       "    LDAvis_load_lib(\"https://d3js.org/d3.v5.js\", function(){\n",
       "         LDAvis_load_lib(\"https://cdn.jsdelivr.net/gh/bmabey/pyLDAvis@3.4.0/pyLDAvis/js/ldavis.v3.0.0.js\", function(){\n",
       "                 new LDAvis(\"#\" + \"ldavis_el926871406076089916323223317717\", ldavis_el926871406076089916323223317717_data);\n",
       "            })\n",
       "         });\n",
       "}\n",
       "</script>"
      ],
      "text/plain": [
       "PreparedData(topic_coordinates=              x         y  topics  cluster       Freq\n",
       "topic                                                \n",
       "6     -0.283151 -0.057164       1        1  14.697357\n",
       "5     -0.030587  0.202892       2        1  14.011334\n",
       "8     -0.267922 -0.042571       3        1  11.717799\n",
       "4      0.040520  0.192876       4        1  10.300454\n",
       "1      0.019279  0.072931       5        1  10.080858\n",
       "9      0.073963  0.155225       6        1   9.652704\n",
       "2      0.121326 -0.027864       7        1   7.968425\n",
       "0      0.037222 -0.139790       8        1   7.415921\n",
       "3      0.237835 -0.081243       9        1   7.230730\n",
       "7      0.051516 -0.275291      10        1   6.924419, topic_info=       Term         Freq        Total Category  logprob  loglift\n",
       "245      לי  8191.000000  8191.000000  Default  30.0000  30.0000\n",
       "2076    חוק  4591.000000  4591.000000  Default  29.0000  29.0000\n",
       "369   המשפט  5222.000000  5222.000000  Default  28.0000  28.0000\n",
       "373    יסוד  3935.000000  3935.000000  Default  27.0000  27.0000\n",
       "49    ישראל  8616.000000  8616.000000  Default  26.0000  26.0000\n",
       "...     ...          ...          ...      ...      ...      ...\n",
       "305    היית   639.345770  1125.720703  Topic10  -5.1180   2.1044\n",
       "58       לך  1291.306223  8494.124563  Topic10  -4.4151   0.7864\n",
       "1347   הולך   522.287365   750.083624  Topic10  -5.3202   2.3081\n",
       "883   שיהיה   529.853918   806.313752  Topic10  -5.3059   2.2502\n",
       "734    אולי   509.140477  2395.267412  Topic10  -5.3457   1.1216\n",
       "\n",
       "[501 rows x 6 columns], token_table=       Topic      Freq   Term\n",
       "term                         \n",
       "72350      5  0.998254   #בנק\n",
       "10702      7  0.999090  #גלית\n",
       "71188      5  0.998860   #היא\n",
       "71190      5  0.998349   #ישי\n",
       "251        9  0.998531      1\n",
       "...      ...       ...    ...\n",
       "1177       7  0.997248     תל\n",
       "3031       2  0.270153   תמיד\n",
       "3031       5  0.550753   תמיד\n",
       "3031       9  0.179107   תמיד\n",
       "436        5  0.999254      ️\n",
       "\n",
       "[694 rows x 3 columns], R=30, lambda_step=0.01, plot_opts={'xlab': 'PC1', 'ylab': 'PC2'}, topic_order=[7, 6, 9, 5, 2, 10, 3, 1, 4, 8])"
      ]
     },
     "execution_count": 19,
     "metadata": {},
     "output_type": "execute_result"
    }
   ],
   "source": [
    "pyLDAvis.enable_notebook()\n",
    "vis = pyLDAvis.gensim_models.prepare(tweets_lda, tweets_bow, dictionary)\n",
    "vis"
   ]
  }
 ],
 "metadata": {
  "kernelspec": {
   "display_name": "thesis",
   "language": "python",
   "name": "python3"
  },
  "language_info": {
   "codemirror_mode": {
    "name": "ipython",
    "version": 3
   },
   "file_extension": ".py",
   "mimetype": "text/x-python",
   "name": "python",
   "nbconvert_exporter": "python",
   "pygments_lexer": "ipython3",
   "version": "3.8.18"
  }
 },
 "nbformat": 4,
 "nbformat_minor": 2
}
